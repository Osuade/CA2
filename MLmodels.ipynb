{
 "cells": [
  {
   "cell_type": "code",
   "execution_count": 1,
   "id": "e563676e",
   "metadata": {},
   "outputs": [],
   "source": [
    "import pandas as pd\n",
    "import numpy as np\n",
    "import matplotlib as plt\n",
    "%matplotlib inline"
   ]
  },
  {
   "cell_type": "code",
   "execution_count": 2,
   "id": "d6617e38",
   "metadata": {},
   "outputs": [],
   "source": [
    "### EDA\n",
    "df=pd.read_excel(\"IrishConstructionIndexData.xlsx\")"
   ]
  },
  {
   "cell_type": "code",
   "execution_count": 3,
   "id": "90dafbdf",
   "metadata": {},
   "outputs": [
    {
     "data": {
      "text/plain": [
       "(460, 5)"
      ]
     },
     "execution_count": 3,
     "metadata": {},
     "output_type": "execute_result"
    }
   ],
   "source": [
    "df.shape"
   ]
  },
  {
   "cell_type": "code",
   "execution_count": 4,
   "id": "11bd957b",
   "metadata": {},
   "outputs": [
    {
     "data": {
      "text/html": [
       "<div>\n",
       "<style scoped>\n",
       "    .dataframe tbody tr th:only-of-type {\n",
       "        vertical-align: middle;\n",
       "    }\n",
       "\n",
       "    .dataframe tbody tr th {\n",
       "        vertical-align: top;\n",
       "    }\n",
       "\n",
       "    .dataframe thead th {\n",
       "        text-align: right;\n",
       "    }\n",
       "</style>\n",
       "<table border=\"1\" class=\"dataframe\">\n",
       "  <thead>\n",
       "    <tr style=\"text-align: right;\">\n",
       "      <th></th>\n",
       "      <th>Statistic Label</th>\n",
       "      <th>Year</th>\n",
       "      <th>Type of Building and Construction</th>\n",
       "      <th>UNIT</th>\n",
       "      <th>VALUE</th>\n",
       "    </tr>\n",
       "  </thead>\n",
       "  <tbody>\n",
       "    <tr>\n",
       "      <th>0</th>\n",
       "      <td>Value of Production Index in Building and Cons...</td>\n",
       "      <td>2000</td>\n",
       "      <td>All building and construction</td>\n",
       "      <td>Base 2015=100</td>\n",
       "      <td>155.852221</td>\n",
       "    </tr>\n",
       "    <tr>\n",
       "      <th>1</th>\n",
       "      <td>Value of Production Index in Building and Cons...</td>\n",
       "      <td>2000</td>\n",
       "      <td>Building (excluding civil engineering)</td>\n",
       "      <td>Base 2015=100</td>\n",
       "      <td>199.844255</td>\n",
       "    </tr>\n",
       "  </tbody>\n",
       "</table>\n",
       "</div>"
      ],
      "text/plain": [
       "                                     Statistic Label  Year  \\\n",
       "0  Value of Production Index in Building and Cons...  2000   \n",
       "1  Value of Production Index in Building and Cons...  2000   \n",
       "\n",
       "        Type of Building and Construction           UNIT       VALUE  \n",
       "0           All building and construction  Base 2015=100  155.852221  \n",
       "1  Building (excluding civil engineering)  Base 2015=100  199.844255  "
      ]
     },
     "execution_count": 4,
     "metadata": {},
     "output_type": "execute_result"
    }
   ],
   "source": [
    "df.head(2)"
   ]
  },
  {
   "cell_type": "code",
   "execution_count": 5,
   "id": "17e653ef",
   "metadata": {},
   "outputs": [
    {
     "data": {
      "text/html": [
       "<div>\n",
       "<style scoped>\n",
       "    .dataframe tbody tr th:only-of-type {\n",
       "        vertical-align: middle;\n",
       "    }\n",
       "\n",
       "    .dataframe tbody tr th {\n",
       "        vertical-align: top;\n",
       "    }\n",
       "\n",
       "    .dataframe thead th {\n",
       "        text-align: right;\n",
       "    }\n",
       "</style>\n",
       "<table border=\"1\" class=\"dataframe\">\n",
       "  <thead>\n",
       "    <tr style=\"text-align: right;\">\n",
       "      <th></th>\n",
       "      <th>Statistic Label</th>\n",
       "      <th>Year</th>\n",
       "      <th>Type of Building and Construction</th>\n",
       "      <th>UNIT</th>\n",
       "      <th>VALUE</th>\n",
       "    </tr>\n",
       "  </thead>\n",
       "  <tbody>\n",
       "    <tr>\n",
       "      <th>458</th>\n",
       "      <td>Volume of Production Index in Building and Con...</td>\n",
       "      <td>2022</td>\n",
       "      <td>Non-residential building</td>\n",
       "      <td>Base 2015=100</td>\n",
       "      <td>138.403250</td>\n",
       "    </tr>\n",
       "    <tr>\n",
       "      <th>459</th>\n",
       "      <td>Volume of Production Index in Building and Con...</td>\n",
       "      <td>2022</td>\n",
       "      <td>Civil engineering</td>\n",
       "      <td>Base 2015=100</td>\n",
       "      <td>105.572834</td>\n",
       "    </tr>\n",
       "  </tbody>\n",
       "</table>\n",
       "</div>"
      ],
      "text/plain": [
       "                                       Statistic Label  Year  \\\n",
       "458  Volume of Production Index in Building and Con...  2022   \n",
       "459  Volume of Production Index in Building and Con...  2022   \n",
       "\n",
       "    Type of Building and Construction           UNIT       VALUE  \n",
       "458          Non-residential building  Base 2015=100  138.403250  \n",
       "459                 Civil engineering  Base 2015=100  105.572834  "
      ]
     },
     "execution_count": 5,
     "metadata": {},
     "output_type": "execute_result"
    }
   ],
   "source": [
    "df.tail(2)"
   ]
  },
  {
   "cell_type": "code",
   "execution_count": 6,
   "id": "75f557fc",
   "metadata": {},
   "outputs": [
    {
     "data": {
      "text/html": [
       "<div>\n",
       "<style scoped>\n",
       "    .dataframe tbody tr th:only-of-type {\n",
       "        vertical-align: middle;\n",
       "    }\n",
       "\n",
       "    .dataframe tbody tr th {\n",
       "        vertical-align: top;\n",
       "    }\n",
       "\n",
       "    .dataframe thead th {\n",
       "        text-align: right;\n",
       "    }\n",
       "</style>\n",
       "<table border=\"1\" class=\"dataframe\">\n",
       "  <thead>\n",
       "    <tr style=\"text-align: right;\">\n",
       "      <th></th>\n",
       "      <th>StatisticLabel</th>\n",
       "      <th>Year</th>\n",
       "      <th>TYPE</th>\n",
       "      <th>UNIT</th>\n",
       "      <th>VALUE</th>\n",
       "    </tr>\n",
       "  </thead>\n",
       "  <tbody>\n",
       "    <tr>\n",
       "      <th>0</th>\n",
       "      <td>Value of Production Index in Building and Cons...</td>\n",
       "      <td>2000</td>\n",
       "      <td>All building and construction</td>\n",
       "      <td>Base 2015=100</td>\n",
       "      <td>155.852221</td>\n",
       "    </tr>\n",
       "    <tr>\n",
       "      <th>1</th>\n",
       "      <td>Value of Production Index in Building and Cons...</td>\n",
       "      <td>2000</td>\n",
       "      <td>Building (excluding civil engineering)</td>\n",
       "      <td>Base 2015=100</td>\n",
       "      <td>199.844255</td>\n",
       "    </tr>\n",
       "    <tr>\n",
       "      <th>2</th>\n",
       "      <td>Value of Production Index in Building and Cons...</td>\n",
       "      <td>2000</td>\n",
       "      <td>Residential building</td>\n",
       "      <td>Base 2015=100</td>\n",
       "      <td>311.698160</td>\n",
       "    </tr>\n",
       "    <tr>\n",
       "      <th>3</th>\n",
       "      <td>Value of Production Index in Building and Cons...</td>\n",
       "      <td>2000</td>\n",
       "      <td>Non-residential building</td>\n",
       "      <td>Base 2015=100</td>\n",
       "      <td>121.431248</td>\n",
       "    </tr>\n",
       "    <tr>\n",
       "      <th>4</th>\n",
       "      <td>Value of Production Index in Building and Cons...</td>\n",
       "      <td>2000</td>\n",
       "      <td>Civil engineering</td>\n",
       "      <td>Base 2015=100</td>\n",
       "      <td>63.619979</td>\n",
       "    </tr>\n",
       "  </tbody>\n",
       "</table>\n",
       "</div>"
      ],
      "text/plain": [
       "                                      StatisticLabel  Year  \\\n",
       "0  Value of Production Index in Building and Cons...  2000   \n",
       "1  Value of Production Index in Building and Cons...  2000   \n",
       "2  Value of Production Index in Building and Cons...  2000   \n",
       "3  Value of Production Index in Building and Cons...  2000   \n",
       "4  Value of Production Index in Building and Cons...  2000   \n",
       "\n",
       "                                     TYPE           UNIT       VALUE  \n",
       "0           All building and construction  Base 2015=100  155.852221  \n",
       "1  Building (excluding civil engineering)  Base 2015=100  199.844255  \n",
       "2                    Residential building  Base 2015=100  311.698160  \n",
       "3                Non-residential building  Base 2015=100  121.431248  \n",
       "4                       Civil engineering  Base 2015=100   63.619979  "
      ]
     },
     "execution_count": 6,
     "metadata": {},
     "output_type": "execute_result"
    }
   ],
   "source": [
    "df = df.rename(columns={'Statistic Label': 'StatisticLabel', 'Type of Building and Construction': 'TYPE'})  # rename\n",
    "df.head(5)"
   ]
  },
  {
   "cell_type": "code",
   "execution_count": 7,
   "id": "c063fcd7",
   "metadata": {},
   "outputs": [
    {
     "name": "stdout",
     "output_type": "stream",
     "text": [
      "Value of Production Index in Building and Construction                           115\n",
      "Volume of Production Index in Building and Construction                          115\n",
      "Value of Production Index in Building and Construction (Seasonally Adjusted)     115\n",
      "Volume of Production Index in Building and Construction (Seasonally Adjusted)    115\n",
      "Name: StatisticLabel, dtype: int64\n"
     ]
    }
   ],
   "source": [
    "print(df.StatisticLabel.value_counts())"
   ]
  },
  {
   "cell_type": "code",
   "execution_count": 8,
   "id": "fd1b43bf",
   "metadata": {},
   "outputs": [
    {
     "name": "stdout",
     "output_type": "stream",
     "text": [
      "All building and construction             92\n",
      "Building (excluding civil engineering)    92\n",
      "Residential building                      92\n",
      "Non-residential building                  92\n",
      "Civil engineering                         92\n",
      "Name: TYPE, dtype: int64\n"
     ]
    }
   ],
   "source": [
    "print(df.TYPE.value_counts())"
   ]
  },
  {
   "cell_type": "code",
   "execution_count": 9,
   "id": "5fb8d880",
   "metadata": {},
   "outputs": [
    {
     "name": "stdout",
     "output_type": "stream",
     "text": [
      "Base 2015=100    460\n",
      "Name: UNIT, dtype: int64\n"
     ]
    }
   ],
   "source": [
    "print(df.UNIT.value_counts())"
   ]
  },
  {
   "cell_type": "code",
   "execution_count": 10,
   "id": "25c3008e",
   "metadata": {},
   "outputs": [
    {
     "data": {
      "text/plain": [
       "57.91289363"
      ]
     },
     "execution_count": 10,
     "metadata": {},
     "output_type": "execute_result"
    }
   ],
   "source": [
    "df.VALUE.min()"
   ]
  },
  {
   "cell_type": "code",
   "execution_count": 11,
   "id": "865e0601",
   "metadata": {},
   "outputs": [
    {
     "data": {
      "text/plain": [
       "820.0043668"
      ]
     },
     "execution_count": 11,
     "metadata": {},
     "output_type": "execute_result"
    }
   ],
   "source": [
    "df.VALUE.max()"
   ]
  },
  {
   "cell_type": "code",
   "execution_count": 12,
   "id": "533eb055",
   "metadata": {},
   "outputs": [
    {
     "data": {
      "text/plain": [
       "Value of Production Index in Building and Construction                           115\n",
       "Volume of Production Index in Building and Construction                          115\n",
       "Value of Production Index in Building and Construction (Seasonally Adjusted)     115\n",
       "Volume of Production Index in Building and Construction (Seasonally Adjusted)    115\n",
       "Name: StatisticLabel, dtype: int64"
      ]
     },
     "execution_count": 12,
     "metadata": {},
     "output_type": "execute_result"
    }
   ],
   "source": [
    "df.StatisticLabel.value_counts()"
   ]
  },
  {
   "cell_type": "code",
   "execution_count": 13,
   "id": "1f3666d5",
   "metadata": {
    "scrolled": true
   },
   "outputs": [
    {
     "data": {
      "text/plain": [
       "StatisticLabel    category\n",
       "Year                 int64\n",
       "TYPE              category\n",
       "UNIT                object\n",
       "VALUE              float64\n",
       "dtype: object"
      ]
     },
     "execution_count": 13,
     "metadata": {},
     "output_type": "execute_result"
    }
   ],
   "source": [
    "# \n",
    "df.StatisticLabel = df.StatisticLabel.astype(\"category\") ### change column datatype\n",
    "df.TYPE=df.TYPE.astype('category') ### change column datatype\n",
    "df.dtypes"
   ]
  },
  {
   "cell_type": "code",
   "execution_count": 14,
   "id": "335269d2",
   "metadata": {},
   "outputs": [
    {
     "data": {
      "text/plain": [
       "2022"
      ]
     },
     "execution_count": 14,
     "metadata": {},
     "output_type": "execute_result"
    }
   ],
   "source": [
    "#df['Year'] = pd.to_datetime(df['Year'], format='%Y')\n",
    "df.Year=df.Year.astype('int') ### change column datatype\n",
    "df.Year.max()"
   ]
  },
  {
   "cell_type": "code",
   "execution_count": 15,
   "id": "dbfa5498",
   "metadata": {},
   "outputs": [
    {
     "data": {
      "text/plain": [
       "2000"
      ]
     },
     "execution_count": 15,
     "metadata": {},
     "output_type": "execute_result"
    }
   ],
   "source": [
    "df.Year.min()"
   ]
  },
  {
   "cell_type": "code",
   "execution_count": 16,
   "id": "71a8989f",
   "metadata": {},
   "outputs": [
    {
     "data": {
      "text/plain": [
       "<Axes: >"
      ]
     },
     "execution_count": 16,
     "metadata": {},
     "output_type": "execute_result"
    },
    {
     "data": {
      "image/png": "[encoded data removed]",
      "text/plain": [
       "<Figure size 640x480 with 1 Axes>"
      ]
     },
     "metadata": {},
     "output_type": "display_data"
    }
   ],
   "source": [
    "df.VALUE.hist()"
   ]
  },
  {
   "cell_type": "code",
   "execution_count": 17,
   "id": "fcf0c79f",
   "metadata": {},
   "outputs": [
    {
     "data": {
      "text/plain": [
       "StatisticLabel          category\n",
       "Year              datetime64[ns]\n",
       "TYPE                    category\n",
       "UNIT                      object\n",
       "VALUE                    float64\n",
       "dtype: object"
      ]
     },
     "execution_count": 17,
     "metadata": {},
     "output_type": "execute_result"
    }
   ],
   "source": [
    "#\n",
    "df['Year'] = pd.to_datetime(df['Year'], format='%Y')\n",
    "df.dtypes"
   ]
  },
  {
   "cell_type": "code",
   "execution_count": 18,
   "id": "d15c75f8",
   "metadata": {},
   "outputs": [
    {
     "data": {
      "text/plain": [
       "StatisticLabel          category\n",
       "Year              datetime64[ns]\n",
       "TYPE                    category\n",
       "UNIT                      object\n",
       "VALUE                    float64\n",
       "dtype: object"
      ]
     },
     "execution_count": 18,
     "metadata": {},
     "output_type": "execute_result"
    }
   ],
   "source": [
    "df.dtypes"
   ]
  },
  {
   "cell_type": "code",
   "execution_count": 19,
   "id": "2b935780",
   "metadata": {},
   "outputs": [
    {
     "data": {
      "text/plain": [
       "<Axes: xlabel='Year'>"
      ]
     },
     "execution_count": 19,
     "metadata": {},
     "output_type": "execute_result"
    },
    {
     "data": {
      "image/png": "[encoded data removed]",
      "text/plain": [
       "<Figure size 640x480 with 1 Axes>"
      ]
     },
     "metadata": {},
     "output_type": "display_data"
    }
   ],
   "source": [
    "df.plot(x=\"Year\",y=\"VALUE\")"
   ]
  },
  {
   "cell_type": "code",
   "execution_count": 20,
   "id": "0da46dd5",
   "metadata": {},
   "outputs": [
    {
     "data": {
      "image/png": "[encoded data removed]",
      "text/plain": [
       "<Figure size 640x480 with 1 Axes>"
      ]
     },
     "metadata": {},
     "output_type": "display_data"
    }
   ],
   "source": [
    "import matplotlib.pyplot as plt\n",
    "df[\"VALUE\"].hist(bins=10)\n",
    "plt.show()"
   ]
  },
  {
   "cell_type": "markdown",
   "id": "ef52374c",
   "metadata": {},
   "source": [
    "###  Time Series Model (1)"
   ]
  },
  {
   "cell_type": "code",
   "execution_count": 21,
   "id": "2c1bf133",
   "metadata": {},
   "outputs": [],
   "source": [
    "dftime=df ###  This is Irish dataset"
   ]
  },
  {
   "cell_type": "code",
   "execution_count": 22,
   "id": "f7145640",
   "metadata": {},
   "outputs": [
    {
     "data": {
      "text/plain": [
       "StatisticLabel          category\n",
       "Year              datetime64[ns]\n",
       "TYPE                    category\n",
       "UNIT                      object\n",
       "VALUE                    float64\n",
       "dtype: object"
      ]
     },
     "execution_count": 22,
     "metadata": {},
     "output_type": "execute_result"
    }
   ],
   "source": [
    "dftime.dtypes"
   ]
  },
  {
   "cell_type": "code",
   "execution_count": 23,
   "id": "e0ab7d93",
   "metadata": {},
   "outputs": [
    {
     "data": {
      "text/html": [
       "<div>\n",
       "<style scoped>\n",
       "    .dataframe tbody tr th:only-of-type {\n",
       "        vertical-align: middle;\n",
       "    }\n",
       "\n",
       "    .dataframe tbody tr th {\n",
       "        vertical-align: top;\n",
       "    }\n",
       "\n",
       "    .dataframe thead th {\n",
       "        text-align: right;\n",
       "    }\n",
       "</style>\n",
       "<table border=\"1\" class=\"dataframe\">\n",
       "  <thead>\n",
       "    <tr style=\"text-align: right;\">\n",
       "      <th></th>\n",
       "      <th>StatisticLabel</th>\n",
       "      <th>Year</th>\n",
       "      <th>TYPE</th>\n",
       "      <th>UNIT</th>\n",
       "      <th>VALUE</th>\n",
       "    </tr>\n",
       "  </thead>\n",
       "  <tbody>\n",
       "    <tr>\n",
       "      <th>0</th>\n",
       "      <td>Value of Production Index in Building and Cons...</td>\n",
       "      <td>2000-01-01</td>\n",
       "      <td>All building and construction</td>\n",
       "      <td>Base 2015=100</td>\n",
       "      <td>155.852221</td>\n",
       "    </tr>\n",
       "    <tr>\n",
       "      <th>1</th>\n",
       "      <td>Value of Production Index in Building and Cons...</td>\n",
       "      <td>2000-01-01</td>\n",
       "      <td>Building (excluding civil engineering)</td>\n",
       "      <td>Base 2015=100</td>\n",
       "      <td>199.844255</td>\n",
       "    </tr>\n",
       "    <tr>\n",
       "      <th>2</th>\n",
       "      <td>Value of Production Index in Building and Cons...</td>\n",
       "      <td>2000-01-01</td>\n",
       "      <td>Residential building</td>\n",
       "      <td>Base 2015=100</td>\n",
       "      <td>311.698160</td>\n",
       "    </tr>\n",
       "    <tr>\n",
       "      <th>3</th>\n",
       "      <td>Value of Production Index in Building and Cons...</td>\n",
       "      <td>2000-01-01</td>\n",
       "      <td>Non-residential building</td>\n",
       "      <td>Base 2015=100</td>\n",
       "      <td>121.431248</td>\n",
       "    </tr>\n",
       "    <tr>\n",
       "      <th>4</th>\n",
       "      <td>Value of Production Index in Building and Cons...</td>\n",
       "      <td>2000-01-01</td>\n",
       "      <td>Civil engineering</td>\n",
       "      <td>Base 2015=100</td>\n",
       "      <td>63.619979</td>\n",
       "    </tr>\n",
       "  </tbody>\n",
       "</table>\n",
       "</div>"
      ],
      "text/plain": [
       "                                      StatisticLabel       Year  \\\n",
       "0  Value of Production Index in Building and Cons... 2000-01-01   \n",
       "1  Value of Production Index in Building and Cons... 2000-01-01   \n",
       "2  Value of Production Index in Building and Cons... 2000-01-01   \n",
       "3  Value of Production Index in Building and Cons... 2000-01-01   \n",
       "4  Value of Production Index in Building and Cons... 2000-01-01   \n",
       "\n",
       "                                     TYPE           UNIT       VALUE  \n",
       "0           All building and construction  Base 2015=100  155.852221  \n",
       "1  Building (excluding civil engineering)  Base 2015=100  199.844255  \n",
       "2                    Residential building  Base 2015=100  311.698160  \n",
       "3                Non-residential building  Base 2015=100  121.431248  \n",
       "4                       Civil engineering  Base 2015=100   63.619979  "
      ]
     },
     "execution_count": 23,
     "metadata": {},
     "output_type": "execute_result"
    }
   ],
   "source": [
    "dftime.head()"
   ]
  },
  {
   "cell_type": "code",
   "execution_count": 24,
   "id": "53e95ae9",
   "metadata": {},
   "outputs": [],
   "source": [
    "dftime['Year'] = pd.to_datetime(dftime['Year'], format='%Y/%m/%d')"
   ]
  },
  {
   "cell_type": "code",
   "execution_count": 25,
   "id": "763f5539",
   "metadata": {},
   "outputs": [
    {
     "data": {
      "text/html": [
       "<div>\n",
       "<style scoped>\n",
       "    .dataframe tbody tr th:only-of-type {\n",
       "        vertical-align: middle;\n",
       "    }\n",
       "\n",
       "    .dataframe tbody tr th {\n",
       "        vertical-align: top;\n",
       "    }\n",
       "\n",
       "    .dataframe thead th {\n",
       "        text-align: right;\n",
       "    }\n",
       "</style>\n",
       "<table border=\"1\" class=\"dataframe\">\n",
       "  <thead>\n",
       "    <tr style=\"text-align: right;\">\n",
       "      <th></th>\n",
       "      <th>Year</th>\n",
       "      <th>VALUE</th>\n",
       "    </tr>\n",
       "  </thead>\n",
       "  <tbody>\n",
       "    <tr>\n",
       "      <th>0</th>\n",
       "      <td>2000-01-01</td>\n",
       "      <td>155.852221</td>\n",
       "    </tr>\n",
       "    <tr>\n",
       "      <th>1</th>\n",
       "      <td>2000-01-01</td>\n",
       "      <td>199.844255</td>\n",
       "    </tr>\n",
       "    <tr>\n",
       "      <th>2</th>\n",
       "      <td>2000-01-01</td>\n",
       "      <td>311.698160</td>\n",
       "    </tr>\n",
       "    <tr>\n",
       "      <th>3</th>\n",
       "      <td>2000-01-01</td>\n",
       "      <td>121.431248</td>\n",
       "    </tr>\n",
       "    <tr>\n",
       "      <th>4</th>\n",
       "      <td>2000-01-01</td>\n",
       "      <td>63.619979</td>\n",
       "    </tr>\n",
       "    <tr>\n",
       "      <th>...</th>\n",
       "      <td>...</td>\n",
       "      <td>...</td>\n",
       "    </tr>\n",
       "    <tr>\n",
       "      <th>455</th>\n",
       "      <td>2022-01-01</td>\n",
       "      <td>130.320963</td>\n",
       "    </tr>\n",
       "    <tr>\n",
       "      <th>456</th>\n",
       "      <td>2022-01-01</td>\n",
       "      <td>135.733187</td>\n",
       "    </tr>\n",
       "    <tr>\n",
       "      <th>457</th>\n",
       "      <td>2022-01-01</td>\n",
       "      <td>115.723415</td>\n",
       "    </tr>\n",
       "    <tr>\n",
       "      <th>458</th>\n",
       "      <td>2022-01-01</td>\n",
       "      <td>138.403250</td>\n",
       "    </tr>\n",
       "    <tr>\n",
       "      <th>459</th>\n",
       "      <td>2022-01-01</td>\n",
       "      <td>105.572834</td>\n",
       "    </tr>\n",
       "  </tbody>\n",
       "</table>\n",
       "<p>460 rows × 2 columns</p>\n",
       "</div>"
      ],
      "text/plain": [
       "          Year       VALUE\n",
       "0   2000-01-01  155.852221\n",
       "1   2000-01-01  199.844255\n",
       "2   2000-01-01  311.698160\n",
       "3   2000-01-01  121.431248\n",
       "4   2000-01-01   63.619979\n",
       "..         ...         ...\n",
       "455 2022-01-01  130.320963\n",
       "456 2022-01-01  135.733187\n",
       "457 2022-01-01  115.723415\n",
       "458 2022-01-01  138.403250\n",
       "459 2022-01-01  105.572834\n",
       "\n",
       "[460 rows x 2 columns]"
      ]
     },
     "execution_count": 25,
     "metadata": {},
     "output_type": "execute_result"
    }
   ],
   "source": [
    "dftime=dftime[[\"Year\",\"VALUE\"]]\n",
    "dftime"
   ]
  },
  {
   "cell_type": "code",
   "execution_count": 26,
   "id": "f2ef53ff",
   "metadata": {},
   "outputs": [
    {
     "data": {
      "text/plain": [
       "<Axes: xlabel='Year'>"
      ]
     },
     "execution_count": 26,
     "metadata": {},
     "output_type": "execute_result"
    },
    {
     "data": {
      "image/png": "[encoded data removed]",
      "text/plain": [
       "<Figure size 640x480 with 1 Axes>"
      ]
     },
     "metadata": {},
     "output_type": "display_data"
    }
   ],
   "source": [
    "dftime.plot(x=\"Year\",y=\"VALUE\", rot=45)"
   ]
  },
  {
   "cell_type": "code",
   "execution_count": 27,
   "id": "d194f6b1",
   "metadata": {},
   "outputs": [
    {
     "name": "stdout",
     "output_type": "stream",
     "text": [
      "(460, 2)\n",
      "          Year       VALUE\n",
      "459 2022-01-01  105.572834\n"
     ]
    }
   ],
   "source": [
    "print(dftime.shape)\n",
    "print(dftime.tail(1))"
   ]
  },
  {
   "cell_type": "markdown",
   "id": "3dd53bec",
   "metadata": {},
   "source": [
    "####  A simple Time Series analysis ML model (1)."
   ]
  },
  {
   "cell_type": "code",
   "execution_count": 28,
   "id": "d2d97733",
   "metadata": {
    "scrolled": true
   },
   "outputs": [
    {
     "name": "stdout",
     "output_type": "stream",
     "text": [
      "460    102.994315\n",
      "461     83.507730\n",
      "462     73.045990\n",
      "463     57.348781\n",
      "464     44.257743\n",
      "465     29.460817\n",
      "466     15.329171\n",
      "467      0.558919\n",
      "468    -14.132943\n",
      "469    -29.140685\n",
      "Name: predicted_mean, dtype: float64\n"
     ]
    }
   ],
   "source": [
    "import pandas as pd\n",
    "from statsmodels.tsa.arima.model import ARIMA\n",
    "\n",
    "model = ARIMA(dftime['VALUE'], order=(1, 3, 1))  ### p,d,q,\n",
    "model_fit = model.fit()\n",
    "\n",
    "forecast = model_fit.forecast(steps=10)\n",
    "\n",
    "print(forecast)"
   ]
  },
  {
   "cell_type": "markdown",
   "id": "1ae52cf1",
   "metadata": {},
   "source": [
    "#### The actual value for row 460 is 105.57, predicted value is 102.99.  That's really accurate.  99.7%  This is a good TSA model."
   ]
  },
  {
   "cell_type": "code",
   "execution_count": 29,
   "id": "e7fd6939",
   "metadata": {},
   "outputs": [],
   "source": [
    "### https://sparkbyexamples.com/pandas/time-series-plot-in-pandas/\n",
    "### https://www.pluralsight.com/guides/machine-learning-for-time-series-data-in-python"
   ]
  },
  {
   "cell_type": "markdown",
   "id": "e82118e4",
   "metadata": {},
   "source": [
    "# Multiple Linear regression.  Model (2)"
   ]
  },
  {
   "cell_type": "code",
   "execution_count": 30,
   "id": "f91d5d8f",
   "metadata": {},
   "outputs": [
    {
     "data": {
      "text/html": [
       "<div>\n",
       "<style scoped>\n",
       "    .dataframe tbody tr th:only-of-type {\n",
       "        vertical-align: middle;\n",
       "    }\n",
       "\n",
       "    .dataframe tbody tr th {\n",
       "        vertical-align: top;\n",
       "    }\n",
       "\n",
       "    .dataframe thead th {\n",
       "        text-align: right;\n",
       "    }\n",
       "</style>\n",
       "<table border=\"1\" class=\"dataframe\">\n",
       "  <thead>\n",
       "    <tr style=\"text-align: right;\">\n",
       "      <th></th>\n",
       "      <th>StatisticLabel</th>\n",
       "      <th>Year</th>\n",
       "      <th>TYPE</th>\n",
       "      <th>UNIT</th>\n",
       "      <th>VALUE</th>\n",
       "    </tr>\n",
       "  </thead>\n",
       "  <tbody>\n",
       "    <tr>\n",
       "      <th>0</th>\n",
       "      <td>Value of Production Index in Building and Cons...</td>\n",
       "      <td>2000-01-01</td>\n",
       "      <td>All building and construction</td>\n",
       "      <td>Base 2015=100</td>\n",
       "      <td>155.852221</td>\n",
       "    </tr>\n",
       "    <tr>\n",
       "      <th>1</th>\n",
       "      <td>Value of Production Index in Building and Cons...</td>\n",
       "      <td>2000-01-01</td>\n",
       "      <td>Building (excluding civil engineering)</td>\n",
       "      <td>Base 2015=100</td>\n",
       "      <td>199.844255</td>\n",
       "    </tr>\n",
       "    <tr>\n",
       "      <th>2</th>\n",
       "      <td>Value of Production Index in Building and Cons...</td>\n",
       "      <td>2000-01-01</td>\n",
       "      <td>Residential building</td>\n",
       "      <td>Base 2015=100</td>\n",
       "      <td>311.698160</td>\n",
       "    </tr>\n",
       "    <tr>\n",
       "      <th>3</th>\n",
       "      <td>Value of Production Index in Building and Cons...</td>\n",
       "      <td>2000-01-01</td>\n",
       "      <td>Non-residential building</td>\n",
       "      <td>Base 2015=100</td>\n",
       "      <td>121.431248</td>\n",
       "    </tr>\n",
       "    <tr>\n",
       "      <th>4</th>\n",
       "      <td>Value of Production Index in Building and Cons...</td>\n",
       "      <td>2000-01-01</td>\n",
       "      <td>Civil engineering</td>\n",
       "      <td>Base 2015=100</td>\n",
       "      <td>63.619979</td>\n",
       "    </tr>\n",
       "  </tbody>\n",
       "</table>\n",
       "</div>"
      ],
      "text/plain": [
       "                                      StatisticLabel       Year  \\\n",
       "0  Value of Production Index in Building and Cons... 2000-01-01   \n",
       "1  Value of Production Index in Building and Cons... 2000-01-01   \n",
       "2  Value of Production Index in Building and Cons... 2000-01-01   \n",
       "3  Value of Production Index in Building and Cons... 2000-01-01   \n",
       "4  Value of Production Index in Building and Cons... 2000-01-01   \n",
       "\n",
       "                                     TYPE           UNIT       VALUE  \n",
       "0           All building and construction  Base 2015=100  155.852221  \n",
       "1  Building (excluding civil engineering)  Base 2015=100  199.844255  \n",
       "2                    Residential building  Base 2015=100  311.698160  \n",
       "3                Non-residential building  Base 2015=100  121.431248  \n",
       "4                       Civil engineering  Base 2015=100   63.619979  "
      ]
     },
     "execution_count": 30,
     "metadata": {},
     "output_type": "execute_result"
    }
   ],
   "source": [
    "# Multiple Linear regression.  Model (2)\n",
    "df.head(5)"
   ]
  },
  {
   "cell_type": "code",
   "execution_count": 31,
   "id": "10a04296",
   "metadata": {},
   "outputs": [
    {
     "data": {
      "text/html": [
       "<div>\n",
       "<style scoped>\n",
       "    .dataframe tbody tr th:only-of-type {\n",
       "        vertical-align: middle;\n",
       "    }\n",
       "\n",
       "    .dataframe tbody tr th {\n",
       "        vertical-align: top;\n",
       "    }\n",
       "\n",
       "    .dataframe thead th {\n",
       "        text-align: right;\n",
       "    }\n",
       "</style>\n",
       "<table border=\"1\" class=\"dataframe\">\n",
       "  <thead>\n",
       "    <tr style=\"text-align: right;\">\n",
       "      <th></th>\n",
       "      <th>VALUE</th>\n",
       "      <th>StatisticLabel</th>\n",
       "      <th>TYPE</th>\n",
       "    </tr>\n",
       "  </thead>\n",
       "  <tbody>\n",
       "    <tr>\n",
       "      <th>0</th>\n",
       "      <td>155.852221</td>\n",
       "      <td>Value of Production Index in Building and Cons...</td>\n",
       "      <td>All building and construction</td>\n",
       "    </tr>\n",
       "    <tr>\n",
       "      <th>1</th>\n",
       "      <td>199.844255</td>\n",
       "      <td>Value of Production Index in Building and Cons...</td>\n",
       "      <td>Building (excluding civil engineering)</td>\n",
       "    </tr>\n",
       "    <tr>\n",
       "      <th>2</th>\n",
       "      <td>311.698160</td>\n",
       "      <td>Value of Production Index in Building and Cons...</td>\n",
       "      <td>Residential building</td>\n",
       "    </tr>\n",
       "    <tr>\n",
       "      <th>3</th>\n",
       "      <td>121.431248</td>\n",
       "      <td>Value of Production Index in Building and Cons...</td>\n",
       "      <td>Non-residential building</td>\n",
       "    </tr>\n",
       "    <tr>\n",
       "      <th>4</th>\n",
       "      <td>63.619979</td>\n",
       "      <td>Value of Production Index in Building and Cons...</td>\n",
       "      <td>Civil engineering</td>\n",
       "    </tr>\n",
       "  </tbody>\n",
       "</table>\n",
       "</div>"
      ],
      "text/plain": [
       "        VALUE                                     StatisticLabel  \\\n",
       "0  155.852221  Value of Production Index in Building and Cons...   \n",
       "1  199.844255  Value of Production Index in Building and Cons...   \n",
       "2  311.698160  Value of Production Index in Building and Cons...   \n",
       "3  121.431248  Value of Production Index in Building and Cons...   \n",
       "4   63.619979  Value of Production Index in Building and Cons...   \n",
       "\n",
       "                                     TYPE  \n",
       "0           All building and construction  \n",
       "1  Building (excluding civil engineering)  \n",
       "2                    Residential building  \n",
       "3                Non-residential building  \n",
       "4                       Civil engineering  "
      ]
     },
     "execution_count": 31,
     "metadata": {},
     "output_type": "execute_result"
    }
   ],
   "source": [
    "#  Choose the relevant columns\n",
    "dfML = df[[\"VALUE\",'StatisticLabel','TYPE']]\n",
    "dfML.head(5)"
   ]
  },
  {
   "cell_type": "code",
   "execution_count": 32,
   "id": "03c7a910",
   "metadata": {},
   "outputs": [
    {
     "data": {
      "text/html": [
       "<div>\n",
       "<style scoped>\n",
       "    .dataframe tbody tr th:only-of-type {\n",
       "        vertical-align: middle;\n",
       "    }\n",
       "\n",
       "    .dataframe tbody tr th {\n",
       "        vertical-align: top;\n",
       "    }\n",
       "\n",
       "    .dataframe thead th {\n",
       "        text-align: right;\n",
       "    }\n",
       "</style>\n",
       "<table border=\"1\" class=\"dataframe\">\n",
       "  <thead>\n",
       "    <tr style=\"text-align: right;\">\n",
       "      <th></th>\n",
       "      <th>VALUE</th>\n",
       "      <th>StatisticLabel</th>\n",
       "      <th>TYPE</th>\n",
       "    </tr>\n",
       "  </thead>\n",
       "  <tbody>\n",
       "    <tr>\n",
       "      <th>455</th>\n",
       "      <td>130.320963</td>\n",
       "      <td>Volume of Production Index in Building and Con...</td>\n",
       "      <td>All building and construction</td>\n",
       "    </tr>\n",
       "    <tr>\n",
       "      <th>456</th>\n",
       "      <td>135.733187</td>\n",
       "      <td>Volume of Production Index in Building and Con...</td>\n",
       "      <td>Building (excluding civil engineering)</td>\n",
       "    </tr>\n",
       "    <tr>\n",
       "      <th>457</th>\n",
       "      <td>115.723415</td>\n",
       "      <td>Volume of Production Index in Building and Con...</td>\n",
       "      <td>Residential building</td>\n",
       "    </tr>\n",
       "    <tr>\n",
       "      <th>458</th>\n",
       "      <td>138.403250</td>\n",
       "      <td>Volume of Production Index in Building and Con...</td>\n",
       "      <td>Non-residential building</td>\n",
       "    </tr>\n",
       "    <tr>\n",
       "      <th>459</th>\n",
       "      <td>105.572834</td>\n",
       "      <td>Volume of Production Index in Building and Con...</td>\n",
       "      <td>Civil engineering</td>\n",
       "    </tr>\n",
       "  </tbody>\n",
       "</table>\n",
       "</div>"
      ],
      "text/plain": [
       "          VALUE                                     StatisticLabel  \\\n",
       "455  130.320963  Volume of Production Index in Building and Con...   \n",
       "456  135.733187  Volume of Production Index in Building and Con...   \n",
       "457  115.723415  Volume of Production Index in Building and Con...   \n",
       "458  138.403250  Volume of Production Index in Building and Con...   \n",
       "459  105.572834  Volume of Production Index in Building and Con...   \n",
       "\n",
       "                                       TYPE  \n",
       "455           All building and construction  \n",
       "456  Building (excluding civil engineering)  \n",
       "457                    Residential building  \n",
       "458                Non-residential building  \n",
       "459                       Civil engineering  "
      ]
     },
     "execution_count": 32,
     "metadata": {},
     "output_type": "execute_result"
    }
   ],
   "source": [
    "dfML.tail(5)"
   ]
  },
  {
   "cell_type": "markdown",
   "id": "a772325c",
   "metadata": {},
   "source": [
    "#### The dataset ('IrishConstructionIndexData.xlsx') has two major categorical columns, StatisticLabel And Type. Value is numerical and we will delete UNIT."
   ]
  },
  {
   "cell_type": "code",
   "execution_count": 33,
   "id": "6461737a",
   "metadata": {},
   "outputs": [],
   "source": [
    "###  Multiple Linear Regression\n",
    "X = dfML[['StatisticLabel','TYPE']] ### predictors\n",
    "Y = dfML['VALUE']                   ### target\n",
    "X= pd.get_dummies(data=X, drop_first=True)"
   ]
  },
  {
   "cell_type": "code",
   "execution_count": 34,
   "id": "473de1cf",
   "metadata": {},
   "outputs": [
    {
     "data": {
      "text/plain": [
       "(460, 7)"
      ]
     },
     "execution_count": 34,
     "metadata": {},
     "output_type": "execute_result"
    }
   ],
   "source": [
    "X.shape"
   ]
  },
  {
   "cell_type": "code",
   "execution_count": 35,
   "id": "440431b2",
   "metadata": {},
   "outputs": [
    {
     "data": {
      "text/plain": [
       "array([117.22978847, 162.61818201, 117.22978847, 127.26868396,\n",
       "       117.22978847, 170.78249463, 205.14927691, 186.0908908 ,\n",
       "       294.77263112, 162.61818201, 205.14927691, 285.75314049,\n",
       "       118.13176908, 285.75314049, 161.763004  , 304.8115266 ,\n",
       "       170.78249463, 117.27659107, 304.8115266 , 162.61818201,\n",
       "       162.61818201, 285.75314049, 205.14927691, 109.06547585,\n",
       "       126.2960817 , 161.763004  , 286.6083185 , 286.6083185 ,\n",
       "       195.11038143, 109.06547585, 162.61818201, 186.0908908 ,\n",
       "       127.26868396, 108.21029785, 180.82139011, 186.0908908 ,\n",
       "       127.26868396, 108.21029785, 286.6083185 , 117.27659107,\n",
       "       127.26868396, 180.82139011, 126.2960817 , 109.06547585,\n",
       "       108.21029785, 304.8115266 , 186.94606881, 285.75314049,\n",
       "       180.82139011, 118.13176908, 170.78249463, 118.13176908,\n",
       "       127.26868396, 136.33497718, 118.13176908, 117.22978847,\n",
       "       117.27659107, 304.8115266 , 294.77263112, 186.94606881,\n",
       "       127.26868396, 162.61818201, 126.2960817 , 285.75314049,\n",
       "       205.14927691, 109.06547585, 205.14927691, 108.21029785,\n",
       "       186.94606881, 126.2960817 , 205.14927691, 205.14927691,\n",
       "       162.61818201, 118.13176908, 205.14927691, 162.61818201,\n",
       "       170.78249463, 117.22978847, 205.14927691, 286.6083185 ,\n",
       "       195.11038143, 180.82139011, 180.82139011, 205.14927691,\n",
       "       117.27659107, 285.75314049, 286.6083185 , 108.21029785,\n",
       "       186.94606881, 186.94606881, 180.82139011, 294.77263112])"
      ]
     },
     "execution_count": 35,
     "metadata": {},
     "output_type": "execute_result"
    }
   ],
   "source": [
    "from sklearn import linear_model\n",
    "from sklearn.model_selection import train_test_split\n",
    "    \n",
    "X_train, X_test, Y_train, Y_test = train_test_split(X, Y, test_size = .2, random_state = 42)\n",
    "    \n",
    "regr = linear_model.LinearRegression() # Do not use fit_intercept = False if you have removed 1 column after dummy encoding\n",
    "regr.fit(X_train, Y_train)\n",
    "predicted = regr.predict(X_test)\n",
    "predicted"
   ]
  },
  {
   "cell_type": "markdown",
   "id": "fed02d9f",
   "metadata": {},
   "source": [
    "####  If we compare our predicted results to our actual results for the *first row*, we notice 155.85 (actual) and 117.229 (predicted)\n",
    "####  If we compare our predicted results to our actual results for the *second* row, we notice 199.84 (actual) and 162.68 (predicted)\n",
    "####  Obviously, this is not a good model.  We will use a Simple Linear Regression later as a comparison, it's a better model."
   ]
  },
  {
   "cell_type": "markdown",
   "id": "455d517a",
   "metadata": {},
   "source": [
    "### Logistic regression  Model 3"
   ]
  },
  {
   "cell_type": "code",
   "execution_count": 36,
   "id": "198cbe9c",
   "metadata": {},
   "outputs": [
    {
     "data": {
      "text/plain": [
       "All building and construction             92\n",
       "Building (excluding civil engineering)    92\n",
       "Civil engineering                         92\n",
       "Non-residential building                  92\n",
       "Residential building                      92\n",
       "Name: TYPE, dtype: int64"
      ]
     },
     "execution_count": 36,
     "metadata": {},
     "output_type": "execute_result"
    }
   ],
   "source": [
    "dfML.TYPE.value_counts()"
   ]
  },
  {
   "cell_type": "code",
   "execution_count": 37,
   "id": "ae93ae33",
   "metadata": {},
   "outputs": [],
   "source": [
    "import matplotlib.pyplot as plt\n",
    "%matplotlib inline \n",
    "from sklearn.preprocessing import LabelEncoder\n",
    "from sklearn.model_selection import train_test_split\n",
    "from sklearn.model_selection import cross_val_score ## Cross Validation\n",
    "from sklearn.model_selection import GridSearchCV    ## GridSearch\n",
    "from sklearn.preprocessing import StandardScaler\n",
    "from sklearn.linear_model import LogisticRegression\n",
    "from sklearn.neighbors import KNeighborsClassifier\n",
    "from sklearn.svm import SVC\n",
    "from sklearn.tree import DecisionTreeClassifier\n",
    "from sklearn.ensemble import RandomForestClassifier\n",
    "from sklearn.naive_bayes import GaussianNB\n",
    "from sklearn.metrics import accuracy_score\n",
    "#Disable the warnings\n",
    "import warnings\n",
    "warnings.filterwarnings('ignore')\n"
   ]
  },
  {
   "cell_type": "code",
   "execution_count": 38,
   "id": "7ebd11f5",
   "metadata": {},
   "outputs": [
    {
     "data": {
      "text/html": [
       "<div>\n",
       "<style scoped>\n",
       "    .dataframe tbody tr th:only-of-type {\n",
       "        vertical-align: middle;\n",
       "    }\n",
       "\n",
       "    .dataframe tbody tr th {\n",
       "        vertical-align: top;\n",
       "    }\n",
       "\n",
       "    .dataframe thead th {\n",
       "        text-align: right;\n",
       "    }\n",
       "</style>\n",
       "<table border=\"1\" class=\"dataframe\">\n",
       "  <thead>\n",
       "    <tr style=\"text-align: right;\">\n",
       "      <th></th>\n",
       "      <th>VALUE</th>\n",
       "      <th>StatisticLabel</th>\n",
       "      <th>TYPE</th>\n",
       "    </tr>\n",
       "  </thead>\n",
       "  <tbody>\n",
       "    <tr>\n",
       "      <th>417</th>\n",
       "      <td>77.167247</td>\n",
       "      <td>3</td>\n",
       "      <td>4</td>\n",
       "    </tr>\n",
       "    <tr>\n",
       "      <th>287</th>\n",
       "      <td>65.703531</td>\n",
       "      <td>1</td>\n",
       "      <td>4</td>\n",
       "    </tr>\n",
       "    <tr>\n",
       "      <th>156</th>\n",
       "      <td>238.353136</td>\n",
       "      <td>2</td>\n",
       "      <td>1</td>\n",
       "    </tr>\n",
       "    <tr>\n",
       "      <th>210</th>\n",
       "      <td>144.755153</td>\n",
       "      <td>2</td>\n",
       "      <td>0</td>\n",
       "    </tr>\n",
       "    <tr>\n",
       "      <th>444</th>\n",
       "      <td>113.129452</td>\n",
       "      <td>3</td>\n",
       "      <td>2</td>\n",
       "    </tr>\n",
       "  </tbody>\n",
       "</table>\n",
       "</div>"
      ],
      "text/plain": [
       "          VALUE  StatisticLabel  TYPE\n",
       "417   77.167247               3     4\n",
       "287   65.703531               1     4\n",
       "156  238.353136               2     1\n",
       "210  144.755153               2     0\n",
       "444  113.129452               3     2"
      ]
     },
     "execution_count": 38,
     "metadata": {},
     "output_type": "execute_result"
    }
   ],
   "source": [
    "def label_encoder(y):\n",
    "    le = LabelEncoder()\n",
    "    dfML[y] = le.fit_transform(dfML[y])\n",
    " \n",
    "label_list = [\"StatisticLabel\",\"TYPE\"]\n",
    " \n",
    "for l in label_list:\n",
    "    label_encoder(l)\n",
    " \n",
    "#Display transformed data\n",
    "dfML.sample(5)"
   ]
  },
  {
   "cell_type": "markdown",
   "id": "dffc53dd",
   "metadata": {},
   "source": [
    "####  'Type' is our target variable. \n",
    "All building and construction             0.\n",
    "Building (excluding civil engineering)    1.\n",
    "Civil engineering                         2.\n",
    "Non-residential building                  3.\n",
    "Residential building                      4."
   ]
  },
  {
   "cell_type": "code",
   "execution_count": 39,
   "id": "3515db10",
   "metadata": {},
   "outputs": [
    {
     "name": "stdout",
     "output_type": "stream",
     "text": [
      "X_train shape: (345, 2)\n",
      "X_test shape: (115, 2)\n",
      "y_train shape: (345, 1)\n",
      "y_test shape: (115, 1)\n"
     ]
    }
   ],
   "source": [
    "#Divide the dataset into independent and dependent variables\n",
    "X = dfML.drop([\"TYPE\"],axis=1)\n",
    "y = dfML['TYPE']\n",
    " \n",
    "#Split the data into training and testing set\n",
    "X_train,X_test,y_train,y_test=train_test_split(X,y,test_size=0.25,\n",
    "                                               random_state=42, shuffle=True) \n",
    " \n",
    "#Data was splitted as 80% train data and 20% test data.\n",
    " \n",
    "y_train = y_train.values.reshape(-1,1)\n",
    "y_test = y_test.values.reshape(-1,1)\n",
    " \n",
    "print(\"X_train shape:\",X_train.shape)\n",
    "print(\"X_test shape:\",X_test.shape)\n",
    "print(\"y_train shape:\",y_train.shape)\n",
    "print(\"y_test shape:\",y_test.shape)"
   ]
  },
  {
   "cell_type": "code",
   "execution_count": 40,
   "id": "f38d41ba",
   "metadata": {},
   "outputs": [],
   "source": [
    "#Feature Scaling\n",
    "sc = StandardScaler()\n",
    "X_train = sc.fit_transform(X_train)\n",
    "X_test = sc.fit_transform(X_test)"
   ]
  },
  {
   "cell_type": "code",
   "execution_count": 41,
   "id": "a1c56370",
   "metadata": {},
   "outputs": [],
   "source": [
    "#To store results of models, we create two dictionaries\n",
    "result_dict_train = {}\n",
    "result_dict_test = {}"
   ]
  },
  {
   "cell_type": "code",
   "execution_count": 42,
   "id": "af420e37",
   "metadata": {},
   "outputs": [],
   "source": [
    "reg = LogisticRegression(random_state = 42)\n",
    "accuracies = cross_val_score(reg, X_train, y_train, cv=5)\n",
    "reg.fit(X_train,y_train)\n",
    "y_pred = reg.predict(X_test)"
   ]
  },
  {
   "cell_type": "code",
   "execution_count": 43,
   "id": "16f792cf",
   "metadata": {},
   "outputs": [],
   "source": [
    "#Store results in the dictionaries\n",
    "result_dict_train[\"Logistic Train Score\"] = np.mean(accuracies)\n",
    "result_dict_test[\"Logistic Test Score\"] = reg.score(X_test,y_test)"
   ]
  },
  {
   "cell_type": "code",
   "execution_count": 44,
   "id": "bc23cb6f",
   "metadata": {},
   "outputs": [
    {
     "name": "stdout",
     "output_type": "stream",
     "text": [
      "Train Score: 0.3681159420289855\n",
      "Test Score: 0.3391304347826087\n"
     ]
    }
   ],
   "source": [
    "knn = KNeighborsClassifier()\n",
    "accuracies = cross_val_score(knn, X_train, y_train, cv=5)\n",
    "knn.fit(X_train,y_train)\n",
    "y_pred = knn.predict(X_test)\n",
    " \n",
    "#Obtain accuracy\n",
    "print(\"Train Score:\",np.mean(accuracies))\n",
    "print(\"Test Score:\",knn.score(X_test,y_test))"
   ]
  },
  {
   "cell_type": "code",
   "execution_count": 45,
   "id": "9fa4aed2",
   "metadata": {},
   "outputs": [],
   "source": [
    "#Store results in the dictionaries\n",
    "result_dict_train[\"KNN Train Score\"] = np.mean(accuracies)\n",
    "result_dict_test[\"KNN Test Score\"] = knn.score(X_test,y_test)"
   ]
  },
  {
   "cell_type": "code",
   "execution_count": 46,
   "id": "38302317",
   "metadata": {},
   "outputs": [
    {
     "name": "stdout",
     "output_type": "stream",
     "text": [
      "Train Score: 0.33043478260869563\n",
      "Test Score: 0.23478260869565218\n"
     ]
    }
   ],
   "source": [
    "svc = SVC(random_state = 42)\n",
    "accuracies = cross_val_score(svc, X_train, y_train, cv=5)\n",
    "svc.fit(X_train,y_train)\n",
    "y_pred = svc.predict(X_test)\n",
    " \n",
    "#Obtain accuracy\n",
    "print(\"Train Score:\",np.mean(accuracies))\n",
    "print(\"Test Score:\",svc.score(X_test,y_test))"
   ]
  },
  {
   "cell_type": "code",
   "execution_count": 47,
   "id": "0bbda028",
   "metadata": {},
   "outputs": [],
   "source": [
    "#Store results in the dictionaries\n",
    "result_dict_train[\"SVM Train Score\"] = np.mean(accuracies)\n",
    "result_dict_test[\"SVM Test Score\"] = svc.score(X_test,y_test)"
   ]
  },
  {
   "cell_type": "code",
   "execution_count": 48,
   "id": "722dd260",
   "metadata": {},
   "outputs": [
    {
     "name": "stdout",
     "output_type": "stream",
     "text": [
      "Train Score: 0.5043478260869565\n",
      "Test Score: 0.3826086956521739\n"
     ]
    }
   ],
   "source": [
    "dtc = DecisionTreeClassifier(random_state = 42)\n",
    "accuracies = cross_val_score(dtc, X_train, y_train, cv=5)\n",
    "dtc.fit(X_train,y_train)\n",
    "y_pred = dtc.predict(X_test)\n",
    " \n",
    "#Obtain accuracy\n",
    "print(\"Train Score:\",np.mean(accuracies))\n",
    "print(\"Test Score:\",dtc.score(X_test,y_test))"
   ]
  },
  {
   "cell_type": "code",
   "execution_count": 49,
   "id": "258a676a",
   "metadata": {},
   "outputs": [],
   "source": [
    "#Store results in the dictionaries\n",
    "result_dict_train[\"Decision Tree Train Score\"] = np.mean(accuracies)\n",
    "result_dict_test[\"Decision Tree Test Score\"] = dtc.score(X_test,y_test)"
   ]
  },
  {
   "cell_type": "code",
   "execution_count": 50,
   "id": "7c0058fd",
   "metadata": {},
   "outputs": [
    {
     "name": "stdout",
     "output_type": "stream",
     "text": [
      "Train Score: 0.3101449275362319\n",
      "Test Score: 0.2956521739130435\n"
     ]
    }
   ],
   "source": [
    "rfc = RandomForestClassifier(random_state = 42)\n",
    "accuracies = cross_val_score(rfc, X_train, y_train, cv=5)\n",
    "rfc.fit(X_train,y_train)\n",
    "y_pred = rfc.predict(X_test)\n",
    " \n",
    "#Obtain accuracy\n",
    "print(\"Train Score:\",np.mean(accuracies))\n",
    "print(\"Test Score:\",rfc.score(X_test,y_test))"
   ]
  },
  {
   "cell_type": "code",
   "execution_count": 51,
   "id": "35134e01",
   "metadata": {},
   "outputs": [],
   "source": [
    "#Store results in the dictionaries\n",
    "result_dict_train[\"Random Forest Train Score\"] = np.mean(accuracies)\n",
    "result_dict_test[\"Random Forest Test Score\"] = rfc.score(X_test,y_test)"
   ]
  },
  {
   "cell_type": "code",
   "execution_count": 52,
   "id": "18529ae7",
   "metadata": {},
   "outputs": [
    {
     "name": "stdout",
     "output_type": "stream",
     "text": [
      "Train Score: 0.3884057971014493\n",
      "Test Score: 0.3739130434782609\n"
     ]
    }
   ],
   "source": [
    "gnb = GaussianNB()\n",
    "accuracies = cross_val_score(gnb, X_train, y_train, cv=5)\n",
    "gnb.fit(X_train,y_train)\n",
    "y_pred = gnb.predict(X_test)\n",
    " \n",
    "#Obtain accuracy\n",
    "print(\"Train Score:\",np.mean(accuracies))\n",
    "print(\"Test Score:\",gnb.score(X_test,y_test))"
   ]
  },
  {
   "cell_type": "code",
   "execution_count": 53,
   "id": "69c12d38",
   "metadata": {},
   "outputs": [],
   "source": [
    "#Store results in the dictionaries\n",
    "result_dict_train[\"Gaussian NB Train Score\"] = np.mean(accuracies)\n",
    "result_dict_test[\"Gaussian NB Test Score\"] = gnb.score(X_test,y_test)"
   ]
  },
  {
   "cell_type": "code",
   "execution_count": 54,
   "id": "90d09f02",
   "metadata": {},
   "outputs": [
    {
     "data": {
      "text/html": [
       "<div>\n",
       "<style scoped>\n",
       "    .dataframe tbody tr th:only-of-type {\n",
       "        vertical-align: middle;\n",
       "    }\n",
       "\n",
       "    .dataframe tbody tr th {\n",
       "        vertical-align: top;\n",
       "    }\n",
       "\n",
       "    .dataframe thead th {\n",
       "        text-align: right;\n",
       "    }\n",
       "</style>\n",
       "<table border=\"1\" class=\"dataframe\">\n",
       "  <thead>\n",
       "    <tr style=\"text-align: right;\">\n",
       "      <th></th>\n",
       "      <th>Score</th>\n",
       "    </tr>\n",
       "  </thead>\n",
       "  <tbody>\n",
       "    <tr>\n",
       "      <th>Logistic Train Score</th>\n",
       "      <td>0.284058</td>\n",
       "    </tr>\n",
       "    <tr>\n",
       "      <th>KNN Train Score</th>\n",
       "      <td>0.368116</td>\n",
       "    </tr>\n",
       "    <tr>\n",
       "      <th>SVM Train Score</th>\n",
       "      <td>0.330435</td>\n",
       "    </tr>\n",
       "    <tr>\n",
       "      <th>Decision Tree Train Score</th>\n",
       "      <td>0.504348</td>\n",
       "    </tr>\n",
       "    <tr>\n",
       "      <th>Random Forest Train Score</th>\n",
       "      <td>0.310145</td>\n",
       "    </tr>\n",
       "    <tr>\n",
       "      <th>Gaussian NB Train Score</th>\n",
       "      <td>0.388406</td>\n",
       "    </tr>\n",
       "  </tbody>\n",
       "</table>\n",
       "</div>"
      ],
      "text/plain": [
       "                              Score\n",
       "Logistic Train Score       0.284058\n",
       "KNN Train Score            0.368116\n",
       "SVM Train Score            0.330435\n",
       "Decision Tree Train Score  0.504348\n",
       "Random Forest Train Score  0.310145\n",
       "Gaussian NB Train Score    0.388406"
      ]
     },
     "execution_count": 54,
     "metadata": {},
     "output_type": "execute_result"
    }
   ],
   "source": [
    "df_result_train = pd.DataFrame.from_dict(result_dict_train,orient = \"index\", columns=[\"Score\"])\n",
    "df_result_train"
   ]
  },
  {
   "cell_type": "code",
   "execution_count": 55,
   "id": "26c7e129",
   "metadata": {},
   "outputs": [
    {
     "data": {
      "text/html": [
       "<div>\n",
       "<style scoped>\n",
       "    .dataframe tbody tr th:only-of-type {\n",
       "        vertical-align: middle;\n",
       "    }\n",
       "\n",
       "    .dataframe tbody tr th {\n",
       "        vertical-align: top;\n",
       "    }\n",
       "\n",
       "    .dataframe thead th {\n",
       "        text-align: right;\n",
       "    }\n",
       "</style>\n",
       "<table border=\"1\" class=\"dataframe\">\n",
       "  <thead>\n",
       "    <tr style=\"text-align: right;\">\n",
       "      <th></th>\n",
       "      <th>Score</th>\n",
       "    </tr>\n",
       "  </thead>\n",
       "  <tbody>\n",
       "    <tr>\n",
       "      <th>Logistic Test Score</th>\n",
       "      <td>0.217391</td>\n",
       "    </tr>\n",
       "    <tr>\n",
       "      <th>KNN Test Score</th>\n",
       "      <td>0.339130</td>\n",
       "    </tr>\n",
       "    <tr>\n",
       "      <th>SVM Test Score</th>\n",
       "      <td>0.234783</td>\n",
       "    </tr>\n",
       "    <tr>\n",
       "      <th>Decision Tree Test Score</th>\n",
       "      <td>0.382609</td>\n",
       "    </tr>\n",
       "    <tr>\n",
       "      <th>Random Forest Test Score</th>\n",
       "      <td>0.295652</td>\n",
       "    </tr>\n",
       "    <tr>\n",
       "      <th>Gaussian NB Test Score</th>\n",
       "      <td>0.373913</td>\n",
       "    </tr>\n",
       "  </tbody>\n",
       "</table>\n",
       "</div>"
      ],
      "text/plain": [
       "                             Score\n",
       "Logistic Test Score       0.217391\n",
       "KNN Test Score            0.339130\n",
       "SVM Test Score            0.234783\n",
       "Decision Tree Test Score  0.382609\n",
       "Random Forest Test Score  0.295652\n",
       "Gaussian NB Test Score    0.373913"
      ]
     },
     "execution_count": 55,
     "metadata": {},
     "output_type": "execute_result"
    }
   ],
   "source": [
    "df_result_test = pd.DataFrame.from_dict(result_dict_test,orient = \"index\",columns=[\"Score\"])\n",
    "df_result_test"
   ]
  },
  {
   "cell_type": "code",
   "execution_count": 56,
   "id": "ff53281e",
   "metadata": {},
   "outputs": [
    {
     "data": {
      "image/png": "[encoded data removed]",
      "text/plain": [
       "<Figure size 2000x500 with 2 Axes>"
      ]
     },
     "metadata": {},
     "output_type": "display_data"
    }
   ],
   "source": [
    "import seaborn as sns\n",
    " \n",
    "fig,ax = plt.subplots(1,2,figsize=(20,5))\n",
    "sns.barplot(x = df_result_train.index,y = df_result_train.Score,ax = ax[0])\n",
    "sns.barplot(x = df_result_test.index,y = df_result_test.Score,ax = ax[1])\n",
    "ax[0].set_xticklabels(df_result_train.index,rotation = 75)\n",
    "ax[1].set_xticklabels(df_result_test.index,rotation = 75)\n",
    "plt.show()"
   ]
  },
  {
   "cell_type": "markdown",
   "id": "46f6304d",
   "metadata": {},
   "source": [
    "###  Decision Trees works better than a logistic regression when we attempt to classify the TYPE of building construction."
   ]
  },
  {
   "cell_type": "markdown",
   "id": "fae85f47",
   "metadata": {},
   "source": [
    "####  DECISION TREES Model (4)"
   ]
  },
  {
   "cell_type": "code",
   "execution_count": 57,
   "id": "4162590d",
   "metadata": {},
   "outputs": [],
   "source": [
    "X=dfML[[\"VALUE\",\"StatisticLabel\"]]  ## predictors\n",
    "y=dfML[\"TYPE\"]                      ## target"
   ]
  },
  {
   "cell_type": "code",
   "execution_count": 58,
   "id": "4aecb212",
   "metadata": {},
   "outputs": [
    {
     "data": {
      "text/html": [
       "<style>#sk-container-id-1 {color: black;background-color: white;}#sk-container-id-1 pre{padding: 0;}#sk-container-id-1 div.sk-toggleable {background-color: white;}#sk-container-id-1 label.sk-toggleable__label {cursor: pointer;display: block;width: 100%;margin-bottom: 0;padding: 0.3em;box-sizing: border-box;text-align: center;}#sk-container-id-1 label.sk-toggleable__label-arrow:before {content: \"▸\";float: left;margin-right: 0.25em;color: #696969;}#sk-container-id-1 label.sk-toggleable__label-arrow:hover:before {color: black;}#sk-container-id-1 div.sk-estimator:hover label.sk-toggleable__label-arrow:before {color: black;}#sk-container-id-1 div.sk-toggleable__content {max-height: 0;max-width: 0;overflow: hidden;text-align: left;background-color: #f0f8ff;}#sk-container-id-1 div.sk-toggleable__content pre {margin: 0.2em;color: black;border-radius: 0.25em;background-color: #f0f8ff;}#sk-container-id-1 input.sk-toggleable__control:checked~div.sk-toggleable__content {max-height: 200px;max-width: 100%;overflow: auto;}#sk-container-id-1 input.sk-toggleable__control:checked~label.sk-toggleable__label-arrow:before {content: \"▾\";}#sk-container-id-1 div.sk-estimator input.sk-toggleable__control:checked~label.sk-toggleable__label {background-color: #d4ebff;}#sk-container-id-1 div.sk-label input.sk-toggleable__control:checked~label.sk-toggleable__label {background-color: #d4ebff;}#sk-container-id-1 input.sk-hidden--visually {border: 0;clip: rect(1px 1px 1px 1px);clip: rect(1px, 1px, 1px, 1px);height: 1px;margin: -1px;overflow: hidden;padding: 0;position: absolute;width: 1px;}#sk-container-id-1 div.sk-estimator {font-family: monospace;background-color: #f0f8ff;border: 1px dotted black;border-radius: 0.25em;box-sizing: border-box;margin-bottom: 0.5em;}#sk-container-id-1 div.sk-estimator:hover {background-color: #d4ebff;}#sk-container-id-1 div.sk-parallel-item::after {content: \"\";width: 100%;border-bottom: 1px solid gray;flex-grow: 1;}#sk-container-id-1 div.sk-label:hover label.sk-toggleable__label {background-color: #d4ebff;}#sk-container-id-1 div.sk-serial::before {content: \"\";position: absolute;border-left: 1px solid gray;box-sizing: border-box;top: 0;bottom: 0;left: 50%;z-index: 0;}#sk-container-id-1 div.sk-serial {display: flex;flex-direction: column;align-items: center;background-color: white;padding-right: 0.2em;padding-left: 0.2em;position: relative;}#sk-container-id-1 div.sk-item {position: relative;z-index: 1;}#sk-container-id-1 div.sk-parallel {display: flex;align-items: stretch;justify-content: center;background-color: white;position: relative;}#sk-container-id-1 div.sk-item::before, #sk-container-id-1 div.sk-parallel-item::before {content: \"\";position: absolute;border-left: 1px solid gray;box-sizing: border-box;top: 0;bottom: 0;left: 50%;z-index: -1;}#sk-container-id-1 div.sk-parallel-item {display: flex;flex-direction: column;z-index: 1;position: relative;background-color: white;}#sk-container-id-1 div.sk-parallel-item:first-child::after {align-self: flex-end;width: 50%;}#sk-container-id-1 div.sk-parallel-item:last-child::after {align-self: flex-start;width: 50%;}#sk-container-id-1 div.sk-parallel-item:only-child::after {width: 0;}#sk-container-id-1 div.sk-dashed-wrapped {border: 1px dashed gray;margin: 0 0.4em 0.5em 0.4em;box-sizing: border-box;padding-bottom: 0.4em;background-color: white;}#sk-container-id-1 div.sk-label label {font-family: monospace;font-weight: bold;display: inline-block;line-height: 1.2em;}#sk-container-id-1 div.sk-label-container {text-align: center;}#sk-container-id-1 div.sk-container {/* jupyter's `normalize.less` sets `[hidden] { display: none; }` but bootstrap.min.css set `[hidden] { display: none !important; }` so we also need the `!important` here to be able to override the default hidden behavior on the sphinx rendered scikit-learn.org. See: https://github.com/scikit-learn/scikit-learn/issues/21755 */display: inline-block !important;position: relative;}#sk-container-id-1 div.sk-text-repr-fallback {display: none;}</style><div id=\"sk-container-id-1\" class=\"sk-top-container\"><div class=\"sk-text-repr-fallback\"><pre>DecisionTreeRegressor(random_state=0)</pre><b>In a Jupyter environment, please rerun this cell to show the HTML representation or trust the notebook. <br />On GitHub, the HTML representation is unable to render, please try loading this page with nbviewer.org.</b></div><div class=\"sk-container\" hidden><div class=\"sk-item\"><div class=\"sk-estimator sk-toggleable\"><input class=\"sk-toggleable__control sk-hidden--visually\" id=\"sk-estimator-id-1\" type=\"checkbox\" checked><label for=\"sk-estimator-id-1\" class=\"sk-toggleable__label sk-toggleable__label-arrow\">DecisionTreeRegressor</label><div class=\"sk-toggleable__content\"><pre>DecisionTreeRegressor(random_state=0)</pre></div></div></div></div></div>"
      ],
      "text/plain": [
       "DecisionTreeRegressor(random_state=0)"
      ]
     },
     "execution_count": 58,
     "metadata": {},
     "output_type": "execute_result"
    }
   ],
   "source": [
    "# import the Decision Tree regressor\n",
    "from sklearn.tree import DecisionTreeRegressor \n",
    "  \n",
    "# create a regressor object\n",
    "regressor = DecisionTreeRegressor(random_state = 0) \n",
    "  \n",
    "# fit the regressor with X and Y data\n",
    "regressor.fit(X, y)"
   ]
  },
  {
   "cell_type": "code",
   "execution_count": 59,
   "id": "239efd93",
   "metadata": {},
   "outputs": [
    {
     "name": "stdout",
     "output_type": "stream",
     "text": [
      "Predicted Type:  3\n",
      "\n"
     ]
    }
   ],
   "source": [
    "# predicting a new value\n",
    "  \n",
    "# test the output by entering values, like 100 for value and 2 for Statistic Label\n",
    "y_pred = regressor.predict([[100,2]])\n",
    "  \n",
    "# print the predicted price\n",
    "print(\"Predicted Type: % d\\n\"% y_pred) "
   ]
  },
  {
   "cell_type": "markdown",
   "id": "5d832184",
   "metadata": {},
   "source": [
    "####  Predicted Type was Non-residential building (3).  "
   ]
  },
  {
   "cell_type": "markdown",
   "id": "85bdb17a",
   "metadata": {},
   "source": [
    "####  Model (5) Simple linear regression"
   ]
  },
  {
   "cell_type": "code",
   "execution_count": 60,
   "id": "54bdd3ca",
   "metadata": {},
   "outputs": [],
   "source": [
    "###\n",
    "import numpy as np\n",
    "import matplotlib as plt\n",
    "%matplotlib inline\n",
    "import pandas as pd\n",
    "import matplotlib.pyplot as plt\n",
    "import seaborn as sns\n",
    "\n",
    "from sklearn.preprocessing import LabelEncoder\n",
    "from sklearn import metrics\n",
    "import warnings\n",
    "warnings.filterwarnings('ignore')"
   ]
  },
  {
   "cell_type": "code",
   "execution_count": 61,
   "id": "53da557b",
   "metadata": {},
   "outputs": [],
   "source": [
    "### \n",
    "df=pd.read_excel(\"outputukhousebuilding.xlsx\", sheet_name=\"2a\",skiprows=5)"
   ]
  },
  {
   "cell_type": "code",
   "execution_count": 62,
   "id": "090ea6d1",
   "metadata": {},
   "outputs": [
    {
     "data": {
      "text/plain": [
       "(53, 10)"
      ]
     },
     "execution_count": 62,
     "metadata": {},
     "output_type": "execute_result"
    }
   ],
   "source": [
    "df.shape"
   ]
  },
  {
   "cell_type": "code",
   "execution_count": 63,
   "id": "7682df54",
   "metadata": {},
   "outputs": [
    {
     "data": {
      "text/plain": [
       "Index(['Revised', 'Period', 'Started_All_Dwellings',\n",
       "       'Started - Private Enterprise', 'Started - Housing Associations',\n",
       "       'Started - Local Authorities', 'Completed_All_Dwellings',\n",
       "       'Completed - Private Enterprise', 'Completed - Housing Associations',\n",
       "       'Completed - Local Authorities'],\n",
       "      dtype='object')"
      ]
     },
     "execution_count": 63,
     "metadata": {},
     "output_type": "execute_result"
    }
   ],
   "source": [
    "df.columns = df.columns.str.replace('Started - All Dwellings', 'Started_All_Dwellings')\n",
    "df.columns = df.columns.str.replace('Completed - All Dwellings', 'Completed_All_Dwellings')\n",
    "df.columns"
   ]
  },
  {
   "cell_type": "code",
   "execution_count": 64,
   "id": "a07519c7",
   "metadata": {},
   "outputs": [],
   "source": [
    "# imports\n",
    "import pandas as pd\n",
    "import seaborn as sns\n",
    "import statsmodels.formula.api as smf\n",
    "from sklearn.linear_model import LinearRegression\n",
    "from sklearn import metrics\n",
    "from sklearn.model_selection import train_test_split\n",
    "import numpy as np"
   ]
  },
  {
   "cell_type": "code",
   "execution_count": 65,
   "id": "9ab87efd",
   "metadata": {},
   "outputs": [
    {
     "data": {
      "text/html": [
       "<div>\n",
       "<style scoped>\n",
       "    .dataframe tbody tr th:only-of-type {\n",
       "        vertical-align: middle;\n",
       "    }\n",
       "\n",
       "    .dataframe tbody tr th {\n",
       "        vertical-align: top;\n",
       "    }\n",
       "\n",
       "    .dataframe thead th {\n",
       "        text-align: right;\n",
       "    }\n",
       "</style>\n",
       "<table border=\"1\" class=\"dataframe\">\n",
       "  <thead>\n",
       "    <tr style=\"text-align: right;\">\n",
       "      <th></th>\n",
       "      <th>Started_All_Dwellings</th>\n",
       "      <th>Completed_All_Dwellings</th>\n",
       "      <th>Completed - Private Enterprise</th>\n",
       "      <th>Completed - Local Authorities</th>\n",
       "    </tr>\n",
       "  </thead>\n",
       "  <tbody>\n",
       "    <tr>\n",
       "      <th>Started_All_Dwellings</th>\n",
       "      <td>1.000000</td>\n",
       "      <td>0.927824</td>\n",
       "      <td>0.635476</td>\n",
       "      <td>0.814761</td>\n",
       "    </tr>\n",
       "    <tr>\n",
       "      <th>Completed_All_Dwellings</th>\n",
       "      <td>0.927824</td>\n",
       "      <td>1.000000</td>\n",
       "      <td>0.542512</td>\n",
       "      <td>0.927158</td>\n",
       "    </tr>\n",
       "    <tr>\n",
       "      <th>Completed - Private Enterprise</th>\n",
       "      <td>0.635476</td>\n",
       "      <td>0.542512</td>\n",
       "      <td>1.000000</td>\n",
       "      <td>0.204436</td>\n",
       "    </tr>\n",
       "    <tr>\n",
       "      <th>Completed - Local Authorities</th>\n",
       "      <td>0.814761</td>\n",
       "      <td>0.927158</td>\n",
       "      <td>0.204436</td>\n",
       "      <td>1.000000</td>\n",
       "    </tr>\n",
       "  </tbody>\n",
       "</table>\n",
       "</div>"
      ],
      "text/plain": [
       "                                Started_All_Dwellings  \\\n",
       "Started_All_Dwellings                        1.000000   \n",
       "Completed_All_Dwellings                      0.927824   \n",
       "Completed - Private Enterprise               0.635476   \n",
       "Completed - Local Authorities                0.814761   \n",
       "\n",
       "                                Completed_All_Dwellings  \\\n",
       "Started_All_Dwellings                          0.927824   \n",
       "Completed_All_Dwellings                        1.000000   \n",
       "Completed - Private Enterprise                 0.542512   \n",
       "Completed - Local Authorities                  0.927158   \n",
       "\n",
       "                                Completed - Private Enterprise  \\\n",
       "Started_All_Dwellings                                 0.635476   \n",
       "Completed_All_Dwellings                               0.542512   \n",
       "Completed - Private Enterprise                        1.000000   \n",
       "Completed - Local Authorities                         0.204436   \n",
       "\n",
       "                                Completed - Local Authorities  \n",
       "Started_All_Dwellings                                0.814761  \n",
       "Completed_All_Dwellings                              0.927158  \n",
       "Completed - Private Enterprise                       0.204436  \n",
       "Completed - Local Authorities                        1.000000  "
      ]
     },
     "execution_count": 65,
     "metadata": {},
     "output_type": "execute_result"
    }
   ],
   "source": [
    "df.corr()"
   ]
  },
  {
   "cell_type": "markdown",
   "id": "66ef64d6",
   "metadata": {},
   "source": [
    "####  Here, we observed a high correlation between two particular variables.  Using linear regression and r-squared, let's try to improve the accuracy even further."
   ]
  },
  {
   "cell_type": "code",
   "execution_count": 66,
   "id": "2a988d4f",
   "metadata": {},
   "outputs": [
    {
     "data": {
      "text/plain": [
       "<seaborn.axisgrid.PairGrid at 0x1dc0e2d85e0>"
      ]
     },
     "execution_count": 66,
     "metadata": {},
     "output_type": "execute_result"
    },
    {
     "data": {
      "image/png": "[encoded data removed]",
      "text/plain": [
       "<Figure size 490x700 with 1 Axes>"
      ]
     },
     "metadata": {},
     "output_type": "display_data"
    }
   ],
   "source": [
    "# visualize the relationship between the features and the response using scatterplots\n",
    "sns.pairplot(df, x_vars=['Started_All_Dwellings'], y_vars='Completed_All_Dwellings', size=7, aspect=0.7)"
   ]
  },
  {
   "cell_type": "code",
   "execution_count": 67,
   "id": "6bfcb8d0",
   "metadata": {},
   "outputs": [],
   "source": [
    "# imports\n",
    "import seaborn as sns\n",
    "import statsmodels.formula.api as smf\n",
    "from sklearn.linear_model import LinearRegression\n",
    "from sklearn import metrics\n",
    "from sklearn.model_selection import train_test_split\n"
   ]
  },
  {
   "cell_type": "code",
   "execution_count": 68,
   "id": "35a84590",
   "metadata": {},
   "outputs": [
    {
     "data": {
      "text/plain": [
       "Intercept                21412.246057\n",
       "Started_All_Dwellings        0.906777\n",
       "dtype: float64"
      ]
     },
     "execution_count": 68,
     "metadata": {},
     "output_type": "execute_result"
    }
   ],
   "source": [
    "### STATSMODELS ###\n",
    "data=df\n",
    "# create a fitted model\n",
    "lm1 = smf.ols(formula='Completed_All_Dwellings ~ Started_All_Dwellings', data=data).fit()\n",
    "\n",
    "# print the coefficients\n",
    "lm1.params"
   ]
  },
  {
   "cell_type": "code",
   "execution_count": 69,
   "id": "5b343399",
   "metadata": {},
   "outputs": [
    {
     "data": {
      "text/plain": [
       "112089.70000000001"
      ]
     },
     "execution_count": 69,
     "metadata": {},
     "output_type": "execute_result"
    }
   ],
   "source": [
    "# manually calculate the prediction for completed houses = 100,000 houses if the number of houses actually started = 112,0089\n",
    "21412 + 0.906777*100000"
   ]
  },
  {
   "cell_type": "code",
   "execution_count": 70,
   "id": "5a015887",
   "metadata": {},
   "outputs": [
    {
     "data": {
      "text/plain": [
       "0    112089.98832\n",
       "dtype: float64"
      ]
     },
     "execution_count": 70,
     "metadata": {},
     "output_type": "execute_result"
    }
   ],
   "source": [
    "### STATSMODELS ###  Calculate r with StatsModels\n",
    "\n",
    "# You have to create a DataFrame since the Statsmodels formula expects it\n",
    "X_new = pd.DataFrame({'Started_All_Dwellings': [100000]})\n",
    "\n",
    "# predict for a new observation\n",
    "lm1.predict(X_new)"
   ]
  },
  {
   "cell_type": "markdown",
   "id": "4ff7fdfc",
   "metadata": {},
   "source": [
    "###  Our observations are almost identical.  112089.7 and 112089.988.  Let us draw the regressor line."
   ]
  },
  {
   "cell_type": "code",
   "execution_count": 71,
   "id": "de4e696a",
   "metadata": {},
   "outputs": [
    {
     "data": {
      "text/plain": [
       "<seaborn.axisgrid.PairGrid at 0x1dc0e2d81c0>"
      ]
     },
     "execution_count": 71,
     "metadata": {},
     "output_type": "execute_result"
    },
    {
     "data": {
      "image/png": "[encoded data removed]",
      "text/plain": [
       "<Figure size 490x700 with 1 Axes>"
      ]
     },
     "metadata": {},
     "output_type": "display_data"
    }
   ],
   "source": [
    "sns.pairplot(data, x_vars=['Started_All_Dwellings'], y_vars='Completed_All_Dwellings', size=7, aspect=0.7, kind='reg')"
   ]
  },
  {
   "cell_type": "code",
   "execution_count": 72,
   "id": "b5fcf6b9",
   "metadata": {},
   "outputs": [
    {
     "data": {
      "text/html": [
       "<div>\n",
       "<style scoped>\n",
       "    .dataframe tbody tr th:only-of-type {\n",
       "        vertical-align: middle;\n",
       "    }\n",
       "\n",
       "    .dataframe tbody tr th {\n",
       "        vertical-align: top;\n",
       "    }\n",
       "\n",
       "    .dataframe thead th {\n",
       "        text-align: right;\n",
       "    }\n",
       "</style>\n",
       "<table border=\"1\" class=\"dataframe\">\n",
       "  <thead>\n",
       "    <tr style=\"text-align: right;\">\n",
       "      <th></th>\n",
       "      <th>0</th>\n",
       "      <th>1</th>\n",
       "    </tr>\n",
       "  </thead>\n",
       "  <tbody>\n",
       "    <tr>\n",
       "      <th>Intercept</th>\n",
       "      <td>-1616.066797</td>\n",
       "      <td>44440.558912</td>\n",
       "    </tr>\n",
       "    <tr>\n",
       "      <th>Started_All_Dwellings</th>\n",
       "      <td>0.804294</td>\n",
       "      <td>1.009261</td>\n",
       "    </tr>\n",
       "  </tbody>\n",
       "</table>\n",
       "</div>"
      ],
      "text/plain": [
       "                                 0             1\n",
       "Intercept             -1616.066797  44440.558912\n",
       "Started_All_Dwellings     0.804294      1.009261"
      ]
     },
     "execution_count": 72,
     "metadata": {},
     "output_type": "execute_result"
    }
   ],
   "source": [
    "### STATSMODELS ###\n",
    "\n",
    "# print the confidence intervals for the model coefficients (we can accept, with 95% confidence that the predictions are accurate).\n",
    "lm1.conf_int()"
   ]
  },
  {
   "cell_type": "code",
   "execution_count": 73,
   "id": "d6321a26",
   "metadata": {},
   "outputs": [
    {
     "data": {
      "text/plain": [
       "Intercept                6.769788e-02\n",
       "Started_All_Dwellings    1.719878e-23\n",
       "dtype: float64"
      ]
     },
     "execution_count": 73,
     "metadata": {},
     "output_type": "execute_result"
    }
   ],
   "source": [
    "# Conventional hypothesis test\n",
    "\n",
    "# null hypothesis:\n",
    "# There is no relationship between Started_All_Dwellings and Completed_All_Dwellings\n",
    "### STATSMODELS ###\n",
    "\n",
    "# print the p-values for the model coefficients\n",
    "lm1.pvalues"
   ]
  },
  {
   "cell_type": "markdown",
   "id": "c36b1d56",
   "metadata": {},
   "source": [
    "###  Our p values are less than alpha (0.05) so we reject the null hypothesis.  There is a relationship between Dwellings Started and Dwellings Finished."
   ]
  },
  {
   "cell_type": "code",
   "execution_count": 74,
   "id": "1bbe1952",
   "metadata": {},
   "outputs": [
    {
     "data": {
      "text/plain": [
       "0.8608571607775113"
      ]
     },
     "execution_count": 74,
     "metadata": {},
     "output_type": "execute_result"
    }
   ],
   "source": [
    "### STATSMODELS ###\n",
    "\n",
    "# print the R-squared value for the model\n",
    "lm1.rsquared"
   ]
  },
  {
   "cell_type": "markdown",
   "id": "15edc5ea",
   "metadata": {},
   "source": [
    "####  Our model is very accurate."
   ]
  },
  {
   "cell_type": "markdown",
   "id": "cb7439ac",
   "metadata": {},
   "source": [
    "###  Conclusion.  TSA, Decision Trees and Simple linear regression worked really well for predicting and classifying relevant variables and aspects of the construction industry."
   ]
  },
  {
   "cell_type": "markdown",
   "id": "1c339a97",
   "metadata": {},
   "source": [
    "https://github.com/osuade"
   ]
  }
 ],
 "metadata": {
  "kernelspec": {
   "display_name": "Python 3 (ipykernel)",
   "language": "python",
   "name": "python3"
  },
  "language_info": {
   "codemirror_mode": {
    "name": "ipython",
    "version": 3
   },
   "file_extension": ".py",
   "mimetype": "text/x-python",
   "name": "python",
   "nbconvert_exporter": "python",
   "pygments_lexer": "ipython3",
   "version": "3.10.9"
  }
 },
 "nbformat": 4,
 "nbformat_minor": 5
}
