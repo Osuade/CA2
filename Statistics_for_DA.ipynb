{
 "cells": [
  {
   "cell_type": "code",
   "execution_count": 1,
   "id": "f40d6ef6",
   "metadata": {},
   "outputs": [],
   "source": [
    "import pandas as pd\n",
    "import numpy as np\n",
    "###  Dataset(s) taken from www.ons.gov.uk and www.data.gov.ie"
   ]
  },
  {
   "cell_type": "markdown",
   "id": "1f3fced0",
   "metadata": {},
   "source": [
    "####  The first dataset was found on a UK website."
   ]
  },
  {
   "cell_type": "code",
   "execution_count": 2,
   "id": "bb30b50f",
   "metadata": {},
   "outputs": [
    {
     "data": {
      "text/html": [
       "<div>\n",
       "<style scoped>\n",
       "    .dataframe tbody tr th:only-of-type {\n",
       "        vertical-align: middle;\n",
       "    }\n",
       "\n",
       "    .dataframe tbody tr th {\n",
       "        vertical-align: top;\n",
       "    }\n",
       "\n",
       "    .dataframe thead th {\n",
       "        text-align: right;\n",
       "    }\n",
       "</style>\n",
       "<table border=\"1\" class=\"dataframe\">\n",
       "  <thead>\n",
       "    <tr style=\"text-align: right;\">\n",
       "      <th></th>\n",
       "      <th>Revised</th>\n",
       "      <th>Period</th>\n",
       "      <th>Started - All Dwellings</th>\n",
       "      <th>Started - Private Enterprise</th>\n",
       "      <th>Started - Housing Associations</th>\n",
       "      <th>Started - Local Authorities</th>\n",
       "      <th>Completed - All Dwellings</th>\n",
       "      <th>Completed - Private Enterprise</th>\n",
       "      <th>Completed - Housing Associations</th>\n",
       "      <th>Completed - Local Authorities</th>\n",
       "    </tr>\n",
       "  </thead>\n",
       "  <tbody>\n",
       "    <tr>\n",
       "      <th>0</th>\n",
       "      <td>NaN</td>\n",
       "      <td>1969-70</td>\n",
       "      <td>357070</td>\n",
       "      <td>171470</td>\n",
       "      <td>10060</td>\n",
       "      <td>175550</td>\n",
       "      <td>378320</td>\n",
       "      <td>185920</td>\n",
       "      <td>7390</td>\n",
       "      <td>184970</td>\n",
       "    </tr>\n",
       "    <tr>\n",
       "      <th>1</th>\n",
       "      <td>NaN</td>\n",
       "      <td>1970-71</td>\n",
       "      <td>330950</td>\n",
       "      <td>169150</td>\n",
       "      <td>8600</td>\n",
       "      <td>153210</td>\n",
       "      <td>362220</td>\n",
       "      <td>174350</td>\n",
       "      <td>8510</td>\n",
       "      <td>179370</td>\n",
       "    </tr>\n",
       "    <tr>\n",
       "      <th>2</th>\n",
       "      <td>NaN</td>\n",
       "      <td>1971-72</td>\n",
       "      <td>358610</td>\n",
       "      <td>212200</td>\n",
       "      <td>11260</td>\n",
       "      <td>135160</td>\n",
       "      <td>364480</td>\n",
       "      <td>196300</td>\n",
       "      <td>10710</td>\n",
       "      <td>157460</td>\n",
       "    </tr>\n",
       "    <tr>\n",
       "      <th>3</th>\n",
       "      <td>NaN</td>\n",
       "      <td>1972-73</td>\n",
       "      <td>361850</td>\n",
       "      <td>232720</td>\n",
       "      <td>9740</td>\n",
       "      <td>119500</td>\n",
       "      <td>330930</td>\n",
       "      <td>200770</td>\n",
       "      <td>7780</td>\n",
       "      <td>122400</td>\n",
       "    </tr>\n",
       "    <tr>\n",
       "      <th>4</th>\n",
       "      <td>NaN</td>\n",
       "      <td>1973-74</td>\n",
       "      <td>338000</td>\n",
       "      <td>220660</td>\n",
       "      <td>11200</td>\n",
       "      <td>106150</td>\n",
       "      <td>304630</td>\n",
       "      <td>191090</td>\n",
       "      <td>8990</td>\n",
       "      <td>104580</td>\n",
       "    </tr>\n",
       "  </tbody>\n",
       "</table>\n",
       "</div>"
      ],
      "text/plain": [
       "  Revised   Period  Started - All Dwellings Started - Private Enterprise  \\\n",
       "0     NaN  1969-70                   357070                       171470   \n",
       "1     NaN  1970-71                   330950                       169150   \n",
       "2     NaN  1971-72                   358610                       212200   \n",
       "3     NaN  1972-73                   361850                       232720   \n",
       "4     NaN  1973-74                   338000                       220660   \n",
       "\n",
       "  Started - Housing Associations Started - Local Authorities  \\\n",
       "0                          10060                      175550   \n",
       "1                           8600                      153210   \n",
       "2                          11260                      135160   \n",
       "3                           9740                      119500   \n",
       "4                          11200                      106150   \n",
       "\n",
       "   Completed - All Dwellings  Completed - Private Enterprise  \\\n",
       "0                     378320                          185920   \n",
       "1                     362220                          174350   \n",
       "2                     364480                          196300   \n",
       "3                     330930                          200770   \n",
       "4                     304630                          191090   \n",
       "\n",
       "  Completed - Housing Associations  Completed - Local Authorities  \n",
       "0                             7390                         184970  \n",
       "1                             8510                         179370  \n",
       "2                            10710                         157460  \n",
       "3                             7780                         122400  \n",
       "4                             8990                         104580  "
      ]
     },
     "execution_count": 2,
     "metadata": {},
     "output_type": "execute_result"
    }
   ],
   "source": [
    "df=pd.read_excel(\"outputukhousebuilding.xlsx\", sheet_name=\"2a\",skiprows=5)\n",
    "df.head()"
   ]
  },
  {
   "cell_type": "markdown",
   "id": "4e63f556",
   "metadata": {},
   "source": [
    "####  We shall create a subset of our dataframe with two columns only to check the correlation between the no. of houses started and the no. of houses completed.  We shall name this mini-dataframe df1."
   ]
  },
  {
   "cell_type": "code",
   "execution_count": 3,
   "id": "7cf06fcd",
   "metadata": {},
   "outputs": [
    {
     "data": {
      "text/plain": [
       "Started - All Dwellings      int64\n",
       "Completed - All Dwellings    int64\n",
       "dtype: object"
      ]
     },
     "execution_count": 3,
     "metadata": {},
     "output_type": "execute_result"
    }
   ],
   "source": [
    "df1=df[[\"Started - All Dwellings\",\"Completed - All Dwellings\"]]\n",
    "#df1.head()\n",
    "df1.dtypes"
   ]
  },
  {
   "cell_type": "markdown",
   "id": "364fd039",
   "metadata": {},
   "source": [
    "#### Test 1. Let us find the correlation between \"all dwellings-started\" and \"all dwellings-completed\".  H0 is that there is a strong correlation."
   ]
  },
  {
   "cell_type": "code",
   "execution_count": 4,
   "id": "523a2408",
   "metadata": {},
   "outputs": [
    {
     "name": "stdout",
     "output_type": "stream",
     "text": [
      "<class 'pandas.core.frame.DataFrame'>\n",
      "RangeIndex: 53 entries, 0 to 52\n",
      "Data columns (total 2 columns):\n",
      " #   Column                     Non-Null Count  Dtype\n",
      "---  ------                     --------------  -----\n",
      " 0   Started - All Dwellings    53 non-null     int64\n",
      " 1   Completed - All Dwellings  53 non-null     int64\n",
      "dtypes: int64(2)\n",
      "memory usage: 976.0 bytes\n"
     ]
    },
    {
     "data": {
      "text/plain": [
       "(53, 2)"
      ]
     },
     "execution_count": 4,
     "metadata": {},
     "output_type": "execute_result"
    }
   ],
   "source": [
    "df1.info()\n",
    "df1.shape"
   ]
  },
  {
   "cell_type": "markdown",
   "id": "3b14001f",
   "metadata": {},
   "source": [
    "#### Pearson's correlation"
   ]
  },
  {
   "cell_type": "code",
   "execution_count": 5,
   "id": "17580ffa",
   "metadata": {},
   "outputs": [
    {
     "name": "stdout",
     "output_type": "stream",
     "text": [
      "                           Started - All Dwellings  Completed - All Dwellings\n",
      "Started - All Dwellings                   1.000000                   0.927824\n",
      "Completed - All Dwellings                 0.927824                   1.000000\n"
     ]
    }
   ],
   "source": [
    "import pandas as pd\n",
    "print(df1.corr(method='pearson'))"
   ]
  },
  {
   "cell_type": "markdown",
   "id": "762663b9",
   "metadata": {},
   "source": [
    "#### H0 cannot be rejected.  Correlation is very high. 0.9274"
   ]
  },
  {
   "cell_type": "markdown",
   "id": "aeffee21",
   "metadata": {},
   "source": [
    "####  We shall now look at our other dataset which displays the monthly cost price index from 1994-2016."
   ]
  },
  {
   "cell_type": "code",
   "execution_count": 6,
   "id": "75ece5e0",
   "metadata": {},
   "outputs": [
    {
     "data": {
      "text/plain": [
       "(14, 24)"
      ]
     },
     "execution_count": 6,
     "metadata": {},
     "output_type": "execute_result"
    }
   ],
   "source": [
    "dataset=pd.read_csv(\"national_house_construction_cost_index_0.csv\", skiprows=2)\n",
    "dataset.shape"
   ]
  },
  {
   "cell_type": "markdown",
   "id": "b69f127e",
   "metadata": {},
   "source": [
    "####  n.b. The cost of constructing a house (per sq metre) in January 2002 it cost €169.9 per square metre\n",
    "####  n.b. The cost of constructing a house (per sq metre) in January 2016 it cost €207.4 per square metre"
   ]
  },
  {
   "cell_type": "code",
   "execution_count": 7,
   "id": "77038e47",
   "metadata": {},
   "outputs": [
    {
     "data": {
      "text/html": [
       "<div>\n",
       "<style scoped>\n",
       "    .dataframe tbody tr th:only-of-type {\n",
       "        vertical-align: middle;\n",
       "    }\n",
       "\n",
       "    .dataframe tbody tr th {\n",
       "        vertical-align: top;\n",
       "    }\n",
       "\n",
       "    .dataframe thead th {\n",
       "        text-align: right;\n",
       "    }\n",
       "</style>\n",
       "<table border=\"1\" class=\"dataframe\">\n",
       "  <thead>\n",
       "    <tr style=\"text-align: right;\">\n",
       "      <th></th>\n",
       "      <th>Month</th>\n",
       "      <th>1994</th>\n",
       "      <th>1995</th>\n",
       "      <th>1996</th>\n",
       "      <th>1997</th>\n",
       "      <th>1998</th>\n",
       "      <th>1999</th>\n",
       "      <th>2000</th>\n",
       "      <th>2001</th>\n",
       "      <th>2002</th>\n",
       "      <th>...</th>\n",
       "      <th>2007</th>\n",
       "      <th>2008</th>\n",
       "      <th>2009</th>\n",
       "      <th>2010</th>\n",
       "      <th>2011</th>\n",
       "      <th>2012</th>\n",
       "      <th>2013</th>\n",
       "      <th>2014</th>\n",
       "      <th>2015</th>\n",
       "      <th>2016</th>\n",
       "    </tr>\n",
       "  </thead>\n",
       "  <tbody>\n",
       "    <tr>\n",
       "      <th>0</th>\n",
       "      <td>January</td>\n",
       "      <td>109.2</td>\n",
       "      <td>113.5</td>\n",
       "      <td>115.9</td>\n",
       "      <td>118</td>\n",
       "      <td>122.9</td>\n",
       "      <td>126.3</td>\n",
       "      <td>135.8</td>\n",
       "      <td>154.3</td>\n",
       "      <td>169.9</td>\n",
       "      <td>...</td>\n",
       "      <td>198.8</td>\n",
       "      <td>207.4</td>\n",
       "      <td>208</td>\n",
       "      <td>206.9</td>\n",
       "      <td>210.2</td>\n",
       "      <td>202.5</td>\n",
       "      <td>204.1</td>\n",
       "      <td>204.9</td>\n",
       "      <td>206.2</td>\n",
       "      <td>207.4</td>\n",
       "    </tr>\n",
       "    <tr>\n",
       "      <th>1</th>\n",
       "      <td>February</td>\n",
       "      <td>109.3</td>\n",
       "      <td>114.1</td>\n",
       "      <td>115.7</td>\n",
       "      <td>118.5</td>\n",
       "      <td>123.1</td>\n",
       "      <td>126.4</td>\n",
       "      <td>136.1</td>\n",
       "      <td>154.7</td>\n",
       "      <td>170</td>\n",
       "      <td>...</td>\n",
       "      <td>198.8</td>\n",
       "      <td>208.2</td>\n",
       "      <td>207.3</td>\n",
       "      <td>207.2</td>\n",
       "      <td>210.5</td>\n",
       "      <td>202.6</td>\n",
       "      <td>204.2</td>\n",
       "      <td>205.4</td>\n",
       "      <td>206</td>\n",
       "      <td>207.1</td>\n",
       "    </tr>\n",
       "    <tr>\n",
       "      <th>2</th>\n",
       "      <td>March</td>\n",
       "      <td>109.4</td>\n",
       "      <td>114.1</td>\n",
       "      <td>115.9</td>\n",
       "      <td>118.8</td>\n",
       "      <td>123.8</td>\n",
       "      <td>126.5</td>\n",
       "      <td>136.4</td>\n",
       "      <td>155.6</td>\n",
       "      <td>169.5</td>\n",
       "      <td>...</td>\n",
       "      <td>199.4</td>\n",
       "      <td>208.6</td>\n",
       "      <td>206.8</td>\n",
       "      <td>207.3</td>\n",
       "      <td>200.7</td>\n",
       "      <td>202.7</td>\n",
       "      <td>204.3</td>\n",
       "      <td>205.4</td>\n",
       "      <td>206.5</td>\n",
       "      <td>NaN</td>\n",
       "    </tr>\n",
       "    <tr>\n",
       "      <th>3</th>\n",
       "      <td>April</td>\n",
       "      <td>110.3</td>\n",
       "      <td>114.1</td>\n",
       "      <td>115.9</td>\n",
       "      <td>119.8</td>\n",
       "      <td>123.8</td>\n",
       "      <td>130.5</td>\n",
       "      <td>136.5</td>\n",
       "      <td>157.4</td>\n",
       "      <td>169.5</td>\n",
       "      <td>...</td>\n",
       "      <td>200</td>\n",
       "      <td>208.9</td>\n",
       "      <td>206.5</td>\n",
       "      <td>207.9</td>\n",
       "      <td>201</td>\n",
       "      <td>203.4</td>\n",
       "      <td>204.5</td>\n",
       "      <td>205.6</td>\n",
       "      <td>206.8</td>\n",
       "      <td>NaN</td>\n",
       "    </tr>\n",
       "    <tr>\n",
       "      <th>4</th>\n",
       "      <td>May</td>\n",
       "      <td>110.1</td>\n",
       "      <td>114.1</td>\n",
       "      <td>115.9</td>\n",
       "      <td>119.8</td>\n",
       "      <td>124.5</td>\n",
       "      <td>130.5</td>\n",
       "      <td>136.8</td>\n",
       "      <td>157.6</td>\n",
       "      <td>169.5</td>\n",
       "      <td>...</td>\n",
       "      <td>200.1</td>\n",
       "      <td>209.4</td>\n",
       "      <td>206.5</td>\n",
       "      <td>208.7</td>\n",
       "      <td>201.2</td>\n",
       "      <td>203.6</td>\n",
       "      <td>204.5</td>\n",
       "      <td>205.9</td>\n",
       "      <td>207.2</td>\n",
       "      <td>NaN</td>\n",
       "    </tr>\n",
       "    <tr>\n",
       "      <th>5</th>\n",
       "      <td>June</td>\n",
       "      <td>110.6</td>\n",
       "      <td>114.1</td>\n",
       "      <td>116</td>\n",
       "      <td>119.9</td>\n",
       "      <td>124.5</td>\n",
       "      <td>130.5</td>\n",
       "      <td>136.9</td>\n",
       "      <td>157.7</td>\n",
       "      <td>169.7</td>\n",
       "      <td>...</td>\n",
       "      <td>200.3</td>\n",
       "      <td>209.9</td>\n",
       "      <td>206</td>\n",
       "      <td>208.6</td>\n",
       "      <td>201.4</td>\n",
       "      <td>203.6</td>\n",
       "      <td>204.8</td>\n",
       "      <td>206</td>\n",
       "      <td>207.6</td>\n",
       "      <td>NaN</td>\n",
       "    </tr>\n",
       "    <tr>\n",
       "      <th>6</th>\n",
       "      <td>July</td>\n",
       "      <td>110.7</td>\n",
       "      <td>114.5</td>\n",
       "      <td>116</td>\n",
       "      <td>120.8</td>\n",
       "      <td>125.7</td>\n",
       "      <td>131.5</td>\n",
       "      <td>137.2</td>\n",
       "      <td>161.1</td>\n",
       "      <td>173.8</td>\n",
       "      <td>...</td>\n",
       "      <td>203.7</td>\n",
       "      <td>210.4</td>\n",
       "      <td>206</td>\n",
       "      <td>209.4</td>\n",
       "      <td>201.5</td>\n",
       "      <td>204.1</td>\n",
       "      <td>204.8</td>\n",
       "      <td>206</td>\n",
       "      <td>207.4</td>\n",
       "      <td>NaN</td>\n",
       "    </tr>\n",
       "    <tr>\n",
       "      <th>7</th>\n",
       "      <td>August</td>\n",
       "      <td>110.9</td>\n",
       "      <td>114.5</td>\n",
       "      <td>116</td>\n",
       "      <td>121</td>\n",
       "      <td>125.7</td>\n",
       "      <td>131.5</td>\n",
       "      <td>137.2</td>\n",
       "      <td>165.9</td>\n",
       "      <td>173.9</td>\n",
       "      <td>...</td>\n",
       "      <td>203.6</td>\n",
       "      <td>210.4</td>\n",
       "      <td>206</td>\n",
       "      <td>209.6</td>\n",
       "      <td>201.9</td>\n",
       "      <td>204.1</td>\n",
       "      <td>205</td>\n",
       "      <td>206.6</td>\n",
       "      <td>207.4</td>\n",
       "      <td>NaN</td>\n",
       "    </tr>\n",
       "    <tr>\n",
       "      <th>8</th>\n",
       "      <td>September</td>\n",
       "      <td>112.2</td>\n",
       "      <td>115.7</td>\n",
       "      <td>116.9</td>\n",
       "      <td>121.5</td>\n",
       "      <td>126</td>\n",
       "      <td>134.1</td>\n",
       "      <td>137.7</td>\n",
       "      <td>166</td>\n",
       "      <td>173.9</td>\n",
       "      <td>...</td>\n",
       "      <td>203.7</td>\n",
       "      <td>210.5</td>\n",
       "      <td>206.1</td>\n",
       "      <td>209.5</td>\n",
       "      <td>202.1</td>\n",
       "      <td>203.7</td>\n",
       "      <td>205.1</td>\n",
       "      <td>206.4</td>\n",
       "      <td>207.3</td>\n",
       "      <td>NaN</td>\n",
       "    </tr>\n",
       "    <tr>\n",
       "      <th>9</th>\n",
       "      <td>October</td>\n",
       "      <td>112.7</td>\n",
       "      <td>115.8</td>\n",
       "      <td>117.1</td>\n",
       "      <td>122</td>\n",
       "      <td>126.2</td>\n",
       "      <td>134.7</td>\n",
       "      <td>153.8</td>\n",
       "      <td>169.3</td>\n",
       "      <td>173.9</td>\n",
       "      <td>...</td>\n",
       "      <td>203.8</td>\n",
       "      <td>210.1</td>\n",
       "      <td>206.2</td>\n",
       "      <td>209.5</td>\n",
       "      <td>202</td>\n",
       "      <td>203.8</td>\n",
       "      <td>205.4</td>\n",
       "      <td>206.7</td>\n",
       "      <td>207.2</td>\n",
       "      <td>NaN</td>\n",
       "    </tr>\n",
       "    <tr>\n",
       "      <th>10</th>\n",
       "      <td>November</td>\n",
       "      <td>112.9</td>\n",
       "      <td>115.9</td>\n",
       "      <td>117.2</td>\n",
       "      <td>122.6</td>\n",
       "      <td>126.2</td>\n",
       "      <td>134.8</td>\n",
       "      <td>153.8</td>\n",
       "      <td>169.4</td>\n",
       "      <td>174</td>\n",
       "      <td>...</td>\n",
       "      <td>203.8</td>\n",
       "      <td>209.9</td>\n",
       "      <td>206.2</td>\n",
       "      <td>209.5</td>\n",
       "      <td>202.2</td>\n",
       "      <td>204</td>\n",
       "      <td>205.4</td>\n",
       "      <td>206.5</td>\n",
       "      <td>207.6</td>\n",
       "      <td>NaN</td>\n",
       "    </tr>\n",
       "    <tr>\n",
       "      <th>11</th>\n",
       "      <td>December</td>\n",
       "      <td>113.1</td>\n",
       "      <td>115.9</td>\n",
       "      <td>117.2</td>\n",
       "      <td>122.6</td>\n",
       "      <td>126.1</td>\n",
       "      <td>134.9</td>\n",
       "      <td>153.9</td>\n",
       "      <td>169.3</td>\n",
       "      <td>174.1</td>\n",
       "      <td>...</td>\n",
       "      <td>204.2</td>\n",
       "      <td>209.3</td>\n",
       "      <td>206.2</td>\n",
       "      <td>209.8</td>\n",
       "      <td>202.3</td>\n",
       "      <td>204.2</td>\n",
       "      <td>204.7</td>\n",
       "      <td>206.2</td>\n",
       "      <td>207.4</td>\n",
       "      <td>NaN</td>\n",
       "    </tr>\n",
       "  </tbody>\n",
       "</table>\n",
       "<p>12 rows × 24 columns</p>\n",
       "</div>"
      ],
      "text/plain": [
       "        Month   1994   1995   1996   1997   1998   1999   2000   2001   2002  \\\n",
       "0     January  109.2  113.5  115.9    118  122.9  126.3  135.8  154.3  169.9   \n",
       "1    February  109.3  114.1  115.7  118.5  123.1  126.4  136.1  154.7    170   \n",
       "2       March  109.4  114.1  115.9  118.8  123.8  126.5  136.4  155.6  169.5   \n",
       "3       April  110.3  114.1  115.9  119.8  123.8  130.5  136.5  157.4  169.5   \n",
       "4         May  110.1  114.1  115.9  119.8  124.5  130.5  136.8  157.6  169.5   \n",
       "5        June  110.6  114.1    116  119.9  124.5  130.5  136.9  157.7  169.7   \n",
       "6        July  110.7  114.5    116  120.8  125.7  131.5  137.2  161.1  173.8   \n",
       "7      August  110.9  114.5    116    121  125.7  131.5  137.2  165.9  173.9   \n",
       "8   September  112.2  115.7  116.9  121.5    126  134.1  137.7    166  173.9   \n",
       "9     October  112.7  115.8  117.1    122  126.2  134.7  153.8  169.3  173.9   \n",
       "10   November  112.9  115.9  117.2  122.6  126.2  134.8  153.8  169.4    174   \n",
       "11   December  113.1  115.9  117.2  122.6  126.1  134.9  153.9  169.3  174.1   \n",
       "\n",
       "    ...   2007   2008   2009   2010   2011   2012   2013   2014   2015   2016  \n",
       "0   ...  198.8  207.4    208  206.9  210.2  202.5  204.1  204.9  206.2  207.4  \n",
       "1   ...  198.8  208.2  207.3  207.2  210.5  202.6  204.2  205.4    206  207.1  \n",
       "2   ...  199.4  208.6  206.8  207.3  200.7  202.7  204.3  205.4  206.5    NaN  \n",
       "3   ...    200  208.9  206.5  207.9    201  203.4  204.5  205.6  206.8    NaN  \n",
       "4   ...  200.1  209.4  206.5  208.7  201.2  203.6  204.5  205.9  207.2    NaN  \n",
       "5   ...  200.3  209.9    206  208.6  201.4  203.6  204.8    206  207.6    NaN  \n",
       "6   ...  203.7  210.4    206  209.4  201.5  204.1  204.8    206  207.4    NaN  \n",
       "7   ...  203.6  210.4    206  209.6  201.9  204.1    205  206.6  207.4    NaN  \n",
       "8   ...  203.7  210.5  206.1  209.5  202.1  203.7  205.1  206.4  207.3    NaN  \n",
       "9   ...  203.8  210.1  206.2  209.5    202  203.8  205.4  206.7  207.2    NaN  \n",
       "10  ...  203.8  209.9  206.2  209.5  202.2    204  205.4  206.5  207.6    NaN  \n",
       "11  ...  204.2  209.3  206.2  209.8  202.3  204.2  204.7  206.2  207.4    NaN  \n",
       "\n",
       "[12 rows x 24 columns]"
      ]
     },
     "execution_count": 7,
     "metadata": {},
     "output_type": "execute_result"
    }
   ],
   "source": [
    "dataset = dataset.iloc[:-2]  ##  Deleting the bottom two rows that we dont need\n",
    "dataset"
   ]
  },
  {
   "cell_type": "code",
   "execution_count": 8,
   "id": "3c8ed040",
   "metadata": {},
   "outputs": [
    {
     "data": {
      "text/html": [
       "<div>\n",
       "<style scoped>\n",
       "    .dataframe tbody tr th:only-of-type {\n",
       "        vertical-align: middle;\n",
       "    }\n",
       "\n",
       "    .dataframe tbody tr th {\n",
       "        vertical-align: top;\n",
       "    }\n",
       "\n",
       "    .dataframe thead th {\n",
       "        text-align: right;\n",
       "    }\n",
       "</style>\n",
       "<table border=\"1\" class=\"dataframe\">\n",
       "  <thead>\n",
       "    <tr style=\"text-align: right;\">\n",
       "      <th></th>\n",
       "      <th>Month</th>\n",
       "      <th>Year_1994</th>\n",
       "      <th>Year_1995</th>\n",
       "      <th>Year_1996</th>\n",
       "      <th>Year_1997</th>\n",
       "      <th>Year_1998</th>\n",
       "      <th>Year_1999</th>\n",
       "      <th>Year_2000</th>\n",
       "      <th>Year_2001</th>\n",
       "      <th>Year_2002</th>\n",
       "      <th>...</th>\n",
       "      <th>Year_2007</th>\n",
       "      <th>Year_2008</th>\n",
       "      <th>Year_2009</th>\n",
       "      <th>Year_2010</th>\n",
       "      <th>Year_2011</th>\n",
       "      <th>Year_2012</th>\n",
       "      <th>Year_2013</th>\n",
       "      <th>Year_2014</th>\n",
       "      <th>Year_2015</th>\n",
       "      <th>Year_2016</th>\n",
       "    </tr>\n",
       "  </thead>\n",
       "  <tbody>\n",
       "    <tr>\n",
       "      <th>0</th>\n",
       "      <td>January</td>\n",
       "      <td>109.2</td>\n",
       "      <td>113.5</td>\n",
       "      <td>115.9</td>\n",
       "      <td>118</td>\n",
       "      <td>122.9</td>\n",
       "      <td>126.3</td>\n",
       "      <td>135.8</td>\n",
       "      <td>154.3</td>\n",
       "      <td>169.9</td>\n",
       "      <td>...</td>\n",
       "      <td>198.8</td>\n",
       "      <td>207.4</td>\n",
       "      <td>208</td>\n",
       "      <td>206.9</td>\n",
       "      <td>210.2</td>\n",
       "      <td>202.5</td>\n",
       "      <td>204.1</td>\n",
       "      <td>204.9</td>\n",
       "      <td>206.2</td>\n",
       "      <td>207.4</td>\n",
       "    </tr>\n",
       "  </tbody>\n",
       "</table>\n",
       "<p>1 rows × 24 columns</p>\n",
       "</div>"
      ],
      "text/plain": [
       "     Month Year_1994 Year_1995 Year_1996 Year_1997 Year_1998 Year_1999  \\\n",
       "0  January     109.2     113.5     115.9       118     122.9     126.3   \n",
       "\n",
       "  Year_2000 Year_2001 Year_2002  ... Year_2007 Year_2008 Year_2009 Year_2010  \\\n",
       "0     135.8     154.3     169.9  ...     198.8     207.4       208     206.9   \n",
       "\n",
       "  Year_2011 Year_2012 Year_2013 Year_2014 Year_2015 Year_2016  \n",
       "0     210.2     202.5     204.1     204.9     206.2     207.4  \n",
       "\n",
       "[1 rows x 24 columns]"
      ]
     },
     "execution_count": 8,
     "metadata": {},
     "output_type": "execute_result"
    }
   ],
   "source": [
    "dataset.rename(columns = {'1994':'Year_1994'}, inplace = True)  ###  Rename columns for clarity.\n",
    "dataset.rename(columns = {'1995':'Year_1995'}, inplace = True)\n",
    "dataset.rename(columns = {'1996':'Year_1996'}, inplace = True)\n",
    "dataset.rename(columns = {'1997':'Year_1997'}, inplace = True)\n",
    "dataset.rename(columns = {'1998':'Year_1998'}, inplace = True)\n",
    "dataset.rename(columns = {'1999':'Year_1999'}, inplace = True)\n",
    "dataset.rename(columns = {'2000':'Year_2000'}, inplace = True)\n",
    "dataset.rename(columns = {'2001':'Year_2001'}, inplace = True)\n",
    "dataset.rename(columns = {'2002':'Year_2002'}, inplace = True)\n",
    "dataset.rename(columns = {'2003':'Year_2003'}, inplace = True)\n",
    "dataset.rename(columns = {'2004':'Year_2004'}, inplace = True)\n",
    "dataset.rename(columns = {'2005':'Year_2005'}, inplace = True)\n",
    "dataset.rename(columns = {'2006':'Year_2006'}, inplace = True)\n",
    "dataset.rename(columns = {'2007':'Year_2007'}, inplace = True)\n",
    "dataset.rename(columns = {'2008':'Year_2008'}, inplace = True)\n",
    "dataset.rename(columns = {'2009':'Year_2009'}, inplace = True)\n",
    "dataset.rename(columns = {'2010':'Year_2010'}, inplace = True)\n",
    "dataset.rename(columns = {'2011':'Year_2011'}, inplace = True)\n",
    "dataset.rename(columns = {'2012':'Year_2012'}, inplace = True)\n",
    "dataset.rename(columns = {'2013':'Year_2013'}, inplace = True)\n",
    "dataset.rename(columns = {'2014':'Year_2014'}, inplace = True)\n",
    "dataset.rename(columns = {'2015':'Year_2015'}, inplace = True)\n",
    "dataset.rename(columns = {'2016':'Year_2016'}, inplace = True)\n",
    "\n",
    "dataset.head(1)"
   ]
  },
  {
   "cell_type": "markdown",
   "id": "02518f77",
   "metadata": {},
   "source": [
    "#### We need to change ''Month' to 'category' as this is an effective use of memory.\n",
    "####  Change \"Year_1994\" and so forth to numerical."
   ]
  },
  {
   "cell_type": "code",
   "execution_count": 9,
   "id": "46fd5a6c",
   "metadata": {},
   "outputs": [],
   "source": [
    "dataset.Month=dataset.Month.astype('category')\n",
    "dataset.Year_1994=dataset.Year_1994.astype('float')\n",
    "dataset.Year_1995=dataset.Year_1995.astype('float')\n",
    "dataset.Year_1996=dataset.Year_1996.astype('float')\n",
    "dataset.Year_1997=dataset.Year_1997.astype('float')\n",
    "dataset.Year_1998=dataset.Year_1998.astype('float')\n",
    "dataset.Year_1999=dataset.Year_1999.astype('float')\n",
    "dataset.Year_2000=dataset.Year_2000.astype('float')\n",
    "dataset.Year_2001=dataset.Year_2001.astype('float')\n",
    "dataset.Year_2002=dataset.Year_2002.astype('float')\n",
    "dataset.Year_2003=dataset.Year_2003.astype('float')\n",
    "dataset.Year_2004=dataset.Year_2004.astype('float')\n",
    "dataset.Year_2005=dataset.Year_2005.astype('float')\n",
    "dataset.Year_2006=dataset.Year_2006.astype('float')\n",
    "dataset.Year_2007=dataset.Year_2007.astype('float')\n",
    "dataset.Year_2008=dataset.Year_2008.astype('float')\n",
    "dataset.Year_2009=dataset.Year_2009.astype('float')\n",
    "dataset.Year_2010=dataset.Year_2010.astype('float')\n",
    "dataset.Year_2011=dataset.Year_2011.astype('float')\n",
    "dataset.Year_2012=dataset.Year_2012.astype('float')\n",
    "dataset.Year_2013=dataset.Year_2013.astype('float')\n",
    "dataset.Year_2014=dataset.Year_2014.astype('float')\n",
    "dataset.Year_2015=dataset.Year_2015.astype('float')\n",
    "dataset.Year_2016=dataset.Year_2016.astype('float')"
   ]
  },
  {
   "cell_type": "code",
   "execution_count": 10,
   "id": "4281b727",
   "metadata": {},
   "outputs": [
    {
     "data": {
      "text/plain": [
       "Month        category\n",
       "Year_1994     float64\n",
       "Year_1995     float64\n",
       "Year_1996     float64\n",
       "Year_1997     float64\n",
       "Year_1998     float64\n",
       "Year_1999     float64\n",
       "Year_2000     float64\n",
       "Year_2001     float64\n",
       "Year_2002     float64\n",
       "Year_2003     float64\n",
       "Year_2004     float64\n",
       "Year_2005     float64\n",
       "Year_2006     float64\n",
       "Year_2007     float64\n",
       "Year_2008     float64\n",
       "Year_2009     float64\n",
       "Year_2010     float64\n",
       "Year_2011     float64\n",
       "Year_2012     float64\n",
       "Year_2013     float64\n",
       "Year_2014     float64\n",
       "Year_2015     float64\n",
       "Year_2016     float64\n",
       "dtype: object"
      ]
     },
     "execution_count": 10,
     "metadata": {},
     "output_type": "execute_result"
    }
   ],
   "source": [
    "dataset.dtypes"
   ]
  },
  {
   "cell_type": "markdown",
   "id": "3522db04",
   "metadata": {},
   "source": [
    "###  Levene's test for homogeneity of variance. Test (2)"
   ]
  },
  {
   "cell_type": "code",
   "execution_count": 11,
   "id": "929b06d5",
   "metadata": {},
   "outputs": [
    {
     "data": {
      "text/plain": [
       "LeveneResult(statistic=5.211450729927005, pvalue=0.010792428086225884)"
      ]
     },
     "execution_count": 11,
     "metadata": {},
     "output_type": "execute_result"
    }
   ],
   "source": [
    "import scipy.stats as stats\n",
    "\n",
    "#Levene's test centered at the mean\n",
    "stats.levene(dataset.Year_1999, dataset.Year_1998, dataset.Year_1997, center='mean')\n",
    "### We have the mean construction index costs for 1997, 1998 and 1999.  Lets see if they are equal (H0)"
   ]
  },
  {
   "cell_type": "markdown",
   "id": "b2e07b70",
   "metadata": {},
   "source": [
    "####  H0 states that the variances are equal. However p <.05, therefore the variances are not homogenous (equal)"
   ]
  },
  {
   "cell_type": "markdown",
   "id": "6cda7ced",
   "metadata": {},
   "source": [
    "####  We established from Levene's test that the variances are unequal so we will perform  Signed Rank test."
   ]
  },
  {
   "cell_type": "markdown",
   "id": "d31d67dd",
   "metadata": {},
   "source": [
    "### Test (3) The Wilcoxon Signed-Rank Test is the non-parametric version of the paired samples t-test.\n"
   ]
  },
  {
   "cell_type": "markdown",
   "id": "4276b461",
   "metadata": {},
   "source": [
    "#### It is used to test whether or not there is a significant difference between two population means when the distribution of the differences between the two samples cannot be assumed to be normal."
   ]
  },
  {
   "cell_type": "code",
   "execution_count": 12,
   "id": "40200c95",
   "metadata": {},
   "outputs": [
    {
     "data": {
      "text/plain": [
       "WilcoxonResult(statistic=0.0, pvalue=0.00048828125)"
      ]
     },
     "execution_count": 12,
     "metadata": {},
     "output_type": "execute_result"
    }
   ],
   "source": [
    "import scipy.stats as stats \n",
    "group1=dataset.Year_1998\n",
    "group2=dataset.Year_1999\n",
    "#perform the Wilcoxon-Signed Rank Test\n",
    "stats.wilcoxon(group1, group2)\n",
    "\n",
    "#  results"
   ]
  },
  {
   "cell_type": "markdown",
   "id": "c4477ef0",
   "metadata": {},
   "source": [
    "#### Since the p-value is less than 0.05, we reject the null hypothesis. We have sufficient evidence to say that the means are not equal between the two groups."
   ]
  },
  {
   "cell_type": "markdown",
   "id": "1b0e8820",
   "metadata": {},
   "source": [
    "####  Test (4) Anova"
   ]
  },
  {
   "cell_type": "code",
   "execution_count": 13,
   "id": "361a4f80",
   "metadata": {},
   "outputs": [],
   "source": [
    "#### ANOVA stands for \"Analysis of Variance\" and it is an omnibus test, meaning that it looks for a significant difference overall between the mean averages of 2 or more groups."
   ]
  },
  {
   "cell_type": "markdown",
   "id": "c21a5c64",
   "metadata": {},
   "source": [
    "#### We will import a JSON file for the Anova. This Irish dataset is one where we have notifications of a builder's intention to commence work on a property."
   ]
  },
  {
   "cell_type": "code",
   "execution_count": 14,
   "id": "d9fb1e2c",
   "metadata": {},
   "outputs": [],
   "source": [
    "import statsmodels.api as sm\n",
    "from statsmodels.formula.api import ols\n",
    "from scipy import stats\n",
    "import scipy as scipy"
   ]
  },
  {
   "cell_type": "code",
   "execution_count": 15,
   "id": "1e2e1bd4",
   "metadata": {},
   "outputs": [
    {
     "data": {
      "text/plain": [
       "Index(['Local Authority', 'Jan', 'Feb', 'Mar', 'Apr', 'May', 'Jun', 'Jul',\n",
       "       'Aug', 'Sep', 'Oct', 'Nov', 'Dec'],\n",
       "      dtype='object')"
      ]
     },
     "execution_count": 15,
     "metadata": {},
     "output_type": "execute_result"
    }
   ],
   "source": [
    "dfCommencement = pd.read_json('https://opendata.housing.gov.ie/dataset/ea008355-8084-48cf-abc7-681f31f8cc72/resource/73296361-12c0-4d0b-99ae-809c8794dc0d/download/bcms_commencement_notices_2019.json')\n",
    "dfCommencement.head()\n",
    "dfCommencement.columns"
   ]
  },
  {
   "cell_type": "code",
   "execution_count": 16,
   "id": "347f81d6",
   "metadata": {},
   "outputs": [
    {
     "data": {
      "text/html": [
       "<div>\n",
       "<style scoped>\n",
       "    .dataframe tbody tr th:only-of-type {\n",
       "        vertical-align: middle;\n",
       "    }\n",
       "\n",
       "    .dataframe tbody tr th {\n",
       "        vertical-align: top;\n",
       "    }\n",
       "\n",
       "    .dataframe thead th {\n",
       "        text-align: right;\n",
       "    }\n",
       "</style>\n",
       "<table border=\"1\" class=\"dataframe\">\n",
       "  <thead>\n",
       "    <tr style=\"text-align: right;\">\n",
       "      <th></th>\n",
       "      <th>Local Authority</th>\n",
       "      <th>Jan</th>\n",
       "      <th>Feb</th>\n",
       "      <th>Mar</th>\n",
       "      <th>Apr</th>\n",
       "      <th>May</th>\n",
       "      <th>Jun</th>\n",
       "      <th>Jul</th>\n",
       "      <th>Aug</th>\n",
       "      <th>Sep</th>\n",
       "      <th>Oct</th>\n",
       "      <th>Nov</th>\n",
       "      <th>Dec</th>\n",
       "    </tr>\n",
       "  </thead>\n",
       "  <tbody>\n",
       "    <tr>\n",
       "      <th>0</th>\n",
       "      <td>Carlow County</td>\n",
       "      <td>5</td>\n",
       "      <td>6</td>\n",
       "      <td>9</td>\n",
       "      <td>6</td>\n",
       "      <td>13</td>\n",
       "      <td>13</td>\n",
       "      <td>14</td>\n",
       "      <td>11</td>\n",
       "      <td>9</td>\n",
       "      <td>6</td>\n",
       "      <td>6</td>\n",
       "      <td>7</td>\n",
       "    </tr>\n",
       "    <tr>\n",
       "      <th>1</th>\n",
       "      <td>Cavan County</td>\n",
       "      <td>5</td>\n",
       "      <td>10</td>\n",
       "      <td>14</td>\n",
       "      <td>7</td>\n",
       "      <td>10</td>\n",
       "      <td>11</td>\n",
       "      <td>9</td>\n",
       "      <td>14</td>\n",
       "      <td>8</td>\n",
       "      <td>10</td>\n",
       "      <td>4</td>\n",
       "      <td>5</td>\n",
       "    </tr>\n",
       "    <tr>\n",
       "      <th>2</th>\n",
       "      <td>Clare County</td>\n",
       "      <td>16</td>\n",
       "      <td>24</td>\n",
       "      <td>22</td>\n",
       "      <td>30</td>\n",
       "      <td>26</td>\n",
       "      <td>12</td>\n",
       "      <td>18</td>\n",
       "      <td>19</td>\n",
       "      <td>20</td>\n",
       "      <td>21</td>\n",
       "      <td>16</td>\n",
       "      <td>12</td>\n",
       "    </tr>\n",
       "    <tr>\n",
       "      <th>3</th>\n",
       "      <td>Cork City</td>\n",
       "      <td>6</td>\n",
       "      <td>4</td>\n",
       "      <td>8</td>\n",
       "      <td>2</td>\n",
       "      <td>5</td>\n",
       "      <td>9</td>\n",
       "      <td>8</td>\n",
       "      <td>13</td>\n",
       "      <td>3</td>\n",
       "      <td>24</td>\n",
       "      <td>10</td>\n",
       "      <td>11</td>\n",
       "    </tr>\n",
       "    <tr>\n",
       "      <th>4</th>\n",
       "      <td>Cork County</td>\n",
       "      <td>43</td>\n",
       "      <td>75</td>\n",
       "      <td>81</td>\n",
       "      <td>74</td>\n",
       "      <td>67</td>\n",
       "      <td>64</td>\n",
       "      <td>84</td>\n",
       "      <td>56</td>\n",
       "      <td>53</td>\n",
       "      <td>61</td>\n",
       "      <td>46</td>\n",
       "      <td>40</td>\n",
       "    </tr>\n",
       "  </tbody>\n",
       "</table>\n",
       "</div>"
      ],
      "text/plain": [
       "  Local Authority  Jan  Feb  Mar  Apr  May  Jun  Jul  Aug  Sep  Oct  Nov  Dec\n",
       "0   Carlow County    5    6    9    6   13   13   14   11    9    6    6    7\n",
       "1    Cavan County    5   10   14    7   10   11    9   14    8   10    4    5\n",
       "2    Clare County   16   24   22   30   26   12   18   19   20   21   16   12\n",
       "3       Cork City    6    4    8    2    5    9    8   13    3   24   10   11\n",
       "4     Cork County   43   75   81   74   67   64   84   56   53   61   46   40"
      ]
     },
     "execution_count": 16,
     "metadata": {},
     "output_type": "execute_result"
    }
   ],
   "source": [
    "dfCommencement.head(5) ### 2019 Commencement notices."
   ]
  },
  {
   "cell_type": "code",
   "execution_count": 17,
   "id": "d8155512",
   "metadata": {},
   "outputs": [
    {
     "name": "stdout",
     "output_type": "stream",
     "text": [
      "            df        sum_sq       mean_sq          F        PR(>F)\n",
      "Dec        1.0  15329.937603  15329.937603  200.11375  4.558496e-15\n",
      "Residual  31.0   2374.789670     76.606118        NaN           NaN\n"
     ]
    }
   ],
   "source": [
    "# ONE-WAY ANOVA  Test Number (4)  H0 states the means of the 2019 dataset January-July are equal\n",
    "model = ols('Jan~Dec', data = dfCommencement).fit()\n",
    "aov = sm.stats.anova_lm(model, type=2)\n",
    "print(aov)"
   ]
  },
  {
   "cell_type": "markdown",
   "id": "c21b8b81",
   "metadata": {},
   "source": [
    "####  p-value is less than alpha (0.05) so we can reject H0.  The means are significantly different"
   ]
  },
  {
   "cell_type": "markdown",
   "id": "fb6cd434",
   "metadata": {},
   "source": [
    "#### Test (5) Where you have two independent samples but you do not know that they have equal variance, you can use Welch's t-test. "
   ]
  },
  {
   "cell_type": "markdown",
   "id": "18fdb936",
   "metadata": {},
   "source": [
    "####  H0 states that the total number of houses completed privately and the total number of houses completed by the Local Authorities share equal variance.  Again we will use a subset of our Output UK Housing dataset with 2 columns only."
   ]
  },
  {
   "cell_type": "code",
   "execution_count": 18,
   "id": "9931f30e",
   "metadata": {},
   "outputs": [
    {
     "data": {
      "text/plain": [
       "Index(['Completed - Private Enterprise', 'Completed - Local Authorities'], dtype='object')"
      ]
     },
     "execution_count": 18,
     "metadata": {},
     "output_type": "execute_result"
    }
   ],
   "source": [
    "df2=df[[\"Completed - Private Enterprise\",\"Completed - Local Authorities\"]]\n",
    "df2.columns"
   ]
  },
  {
   "cell_type": "code",
   "execution_count": 19,
   "id": "be7bd1f0",
   "metadata": {},
   "outputs": [
    {
     "data": {
      "text/plain": [
       "Ttest_indResult(statistic=13.976122539368486, pvalue=3.4952597822295744e-22)"
      ]
     },
     "execution_count": 19,
     "metadata": {},
     "output_type": "execute_result"
    }
   ],
   "source": [
    "scipy.stats.ttest_ind(df2['Completed - Private Enterprise'], df2['Completed - Local Authorities'], equal_var=False)"
   ]
  },
  {
   "cell_type": "markdown",
   "id": "134329da",
   "metadata": {},
   "source": [
    "####  We reject H0.  The variance(s) amongst the mean averages of the privately and publicly completed houses are not similar."
   ]
  },
  {
   "cell_type": "code",
   "execution_count": null,
   "id": "eea5c72a",
   "metadata": {},
   "outputs": [],
   "source": [
    "https://github.com/osuade\n",
    "    "
   ]
  }
 ],
 "metadata": {
  "kernelspec": {
   "display_name": "Python 3 (ipykernel)",
   "language": "python",
   "name": "python3"
  },
  "language_info": {
   "codemirror_mode": {
    "name": "ipython",
    "version": 3
   },
   "file_extension": ".py",
   "mimetype": "text/x-python",
   "name": "python",
   "nbconvert_exporter": "python",
   "pygments_lexer": "ipython3",
   "version": "3.10.9"
  }
 },
 "nbformat": 4,
 "nbformat_minor": 5
}
